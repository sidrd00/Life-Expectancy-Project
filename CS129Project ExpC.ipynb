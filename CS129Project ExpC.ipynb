{
 "cells": [
  {
   "cell_type": "code",
   "execution_count": 1,
   "metadata": {},
   "outputs": [],
   "source": [
    "\n",
    "%matplotlib inline\n",
    "import numpy as np\n",
    "import pandas as pd\n",
    "import seaborn as sns\n",
    "import matplotlib.pyplot as plt\n",
    "\n",
    "from sklearn import preprocessing\n",
    "from sklearn.model_selection import train_test_split\n",
    "from sklearn.linear_model import LinearRegression\n",
    "from sklearn.linear_model import SGDRegressor\n",
    "from sklearn.metrics import mean_squared_error, r2_score\n",
    "from sklearn.model_selection import cross_val_score\n",
    "from sklearn.utils import shuffle\n",
    "from sklearn.preprocessing import PolynomialFeatures\n",
    "from sklearn.linear_model import Ridge\n",
    "from sklearn.linear_model import RidgeCV\n",
    "from sklearn.ensemble import RandomForestRegressor\n",
    "import seaborn as sn"
   ]
  },
  {
   "cell_type": "code",
   "execution_count": 2,
   "metadata": {},
   "outputs": [],
   "source": [
    "df=pd.read_csv('countyData2019.csv')\n",
    "headers = df.iloc[0]\n",
    "dfc=pd.DataFrame(df.values[1:], columns=headers)\n"
   ]
  },
  {
   "cell_type": "code",
   "execution_count": 3,
   "metadata": {},
   "outputs": [],
   "source": [
    "df=pd.read_csv('additionalCountyData2019.csv')\n",
    "headers = df.iloc[0]\n",
    "dfca=pd.DataFrame(df.values[1:], columns=headers)\n"
   ]
  },
  {
   "cell_type": "code",
   "execution_count": 4,
   "metadata": {},
   "outputs": [],
   "source": [
    "df=pd.read_csv('moreCountyData2019.csv')\n",
    "dfcma=df\n"
   ]
  },
  {
   "cell_type": "code",
   "execution_count": 5,
   "metadata": {},
   "outputs": [],
   "source": [
    "dfI=pd.read_csv('CountyIncome2019.csv')\n",
    "headersB=dfI.iloc[2]\n",
    "dfI=pd.DataFrame(dfI.values[3:], columns=headersB)\n",
    "dfI.drop(dfI.index[dfI['County FIPS Code'] == '000'], inplace = True)\n",
    "dfI=dfI.reset_index()\n"
   ]
  },
  {
   "cell_type": "code",
   "execution_count": 6,
   "metadata": {},
   "outputs": [],
   "source": [
    "#county=dfc[['County', 'Average Daily PM2.5','Income Ratio', '% Unemployed' ]]\n",
    "#county= pd.concat([county, dfI['Median Household Income'], dfcma[['% Food Insecure','% Limited Access','% Insufficient Sleep','% Rural','Population']],dfca['Life Expectancy']], axis=1)\n",
    "county=dfc[['County', 'Average Daily PM2.5','Income Ratio', '% Unemployed', '% With Access', 'PCP Rate', 'Dentist Rate', 'MHP Rate' ,'Preventable Hosp. Rate']]\n",
    "county= pd.concat([county, dfI['Median Household Income'], dfcma[['% Food Insecure' ,'% Limited Access','% Insufficient Sleep','% Rural','% African American' ,'% Asian', '% Hispanic', 'Population','% Not Proficient in English']],dfca['Life Expectancy']], axis=1)\n",
    "#county=dfc[['County', 'Average Daily PM2.5' ]]\n",
    "#county= pd.concat([county, dfI['Median Household Income'], dfcma[['% Insufficient Sleep','Population']],dfca['Life Expectancy']], axis=1)\n",
    "\n",
    "#dfI['Median Household Income']\n",
    "#dfca['Life Expectancy']\n"
   ]
  },
  {
   "cell_type": "code",
   "execution_count": 7,
   "metadata": {},
   "outputs": [
    {
     "data": {
      "text/html": [
       "<div>\n",
       "<style scoped>\n",
       "    .dataframe tbody tr th:only-of-type {\n",
       "        vertical-align: middle;\n",
       "    }\n",
       "\n",
       "    .dataframe tbody tr th {\n",
       "        vertical-align: top;\n",
       "    }\n",
       "\n",
       "    .dataframe thead th {\n",
       "        text-align: right;\n",
       "    }\n",
       "</style>\n",
       "<table border=\"1\" class=\"dataframe\">\n",
       "  <thead>\n",
       "    <tr style=\"text-align: right;\">\n",
       "      <th></th>\n",
       "      <th>Average Daily PM2.5</th>\n",
       "      <th>Income Ratio</th>\n",
       "      <th>% Unemployed</th>\n",
       "      <th>% With Access</th>\n",
       "      <th>PCP Rate</th>\n",
       "      <th>Dentist Rate</th>\n",
       "      <th>MHP Rate</th>\n",
       "      <th>Preventable Hosp. Rate</th>\n",
       "      <th>Median Household Income</th>\n",
       "      <th>% Food Insecure</th>\n",
       "      <th>% Limited Access</th>\n",
       "      <th>% Insufficient Sleep</th>\n",
       "      <th>% Rural</th>\n",
       "      <th>% African American</th>\n",
       "      <th>% Asian</th>\n",
       "      <th>% Hispanic</th>\n",
       "      <th>Population</th>\n",
       "      <th>% Not Proficient in English</th>\n",
       "      <th>Life Expectancy</th>\n",
       "    </tr>\n",
       "  </thead>\n",
       "  <tbody>\n",
       "    <tr>\n",
       "      <th>0</th>\n",
       "      <td>11.7</td>\n",
       "      <td>4.6</td>\n",
       "      <td>3.9</td>\n",
       "      <td>69.0</td>\n",
       "      <td>42.0</td>\n",
       "      <td>32.0</td>\n",
       "      <td>16.0</td>\n",
       "      <td>6599.0</td>\n",
       "      <td>58233.0</td>\n",
       "      <td>13.0</td>\n",
       "      <td>12.0</td>\n",
       "      <td>36.0</td>\n",
       "      <td>42.0</td>\n",
       "      <td>19.3</td>\n",
       "      <td>1.3</td>\n",
       "      <td>2.9</td>\n",
       "      <td>55504.0</td>\n",
       "      <td>1.0</td>\n",
       "      <td>76.3</td>\n",
       "    </tr>\n",
       "    <tr>\n",
       "      <th>1</th>\n",
       "      <td>10.3</td>\n",
       "      <td>4.5</td>\n",
       "      <td>4.0</td>\n",
       "      <td>72.0</td>\n",
       "      <td>73.0</td>\n",
       "      <td>50.0</td>\n",
       "      <td>91.0</td>\n",
       "      <td>3833.0</td>\n",
       "      <td>59871.0</td>\n",
       "      <td>12.0</td>\n",
       "      <td>5.0</td>\n",
       "      <td>33.0</td>\n",
       "      <td>42.3</td>\n",
       "      <td>9.0</td>\n",
       "      <td>1.2</td>\n",
       "      <td>4.6</td>\n",
       "      <td>212628.0</td>\n",
       "      <td>0.0</td>\n",
       "      <td>78.6</td>\n",
       "    </tr>\n",
       "    <tr>\n",
       "      <th>2</th>\n",
       "      <td>11.5</td>\n",
       "      <td>5.8</td>\n",
       "      <td>5.9</td>\n",
       "      <td>54.0</td>\n",
       "      <td>39.0</td>\n",
       "      <td>36.0</td>\n",
       "      <td>8.0</td>\n",
       "      <td>4736.0</td>\n",
       "      <td>35972.0</td>\n",
       "      <td>23.0</td>\n",
       "      <td>11.0</td>\n",
       "      <td>39.0</td>\n",
       "      <td>67.8</td>\n",
       "      <td>47.9</td>\n",
       "      <td>0.5</td>\n",
       "      <td>4.2</td>\n",
       "      <td>25270.0</td>\n",
       "      <td>1.0</td>\n",
       "      <td>75.8</td>\n",
       "    </tr>\n",
       "    <tr>\n",
       "      <th>3</th>\n",
       "      <td>11.2</td>\n",
       "      <td>4.3</td>\n",
       "      <td>4.4</td>\n",
       "      <td>16.0</td>\n",
       "      <td>57.0</td>\n",
       "      <td>26.0</td>\n",
       "      <td>9.0</td>\n",
       "      <td>5998.0</td>\n",
       "      <td>47918.0</td>\n",
       "      <td>16.0</td>\n",
       "      <td>3.0</td>\n",
       "      <td>38.0</td>\n",
       "      <td>68.4</td>\n",
       "      <td>21.5</td>\n",
       "      <td>0.2</td>\n",
       "      <td>2.6</td>\n",
       "      <td>22668.0</td>\n",
       "      <td>0.0</td>\n",
       "      <td>73.9</td>\n",
       "    </tr>\n",
       "    <tr>\n",
       "      <th>4</th>\n",
       "      <td>11.7</td>\n",
       "      <td>4.1</td>\n",
       "      <td>4.0</td>\n",
       "      <td>23.0</td>\n",
       "      <td>23.0</td>\n",
       "      <td>21.0</td>\n",
       "      <td>10.0</td>\n",
       "      <td>4162.0</td>\n",
       "      <td>52902.0</td>\n",
       "      <td>11.0</td>\n",
       "      <td>3.0</td>\n",
       "      <td>36.0</td>\n",
       "      <td>90.0</td>\n",
       "      <td>1.5</td>\n",
       "      <td>0.3</td>\n",
       "      <td>9.6</td>\n",
       "      <td>58013.0</td>\n",
       "      <td>2.0</td>\n",
       "      <td>74.6</td>\n",
       "    </tr>\n",
       "    <tr>\n",
       "      <th>...</th>\n",
       "      <td>...</td>\n",
       "      <td>...</td>\n",
       "      <td>...</td>\n",
       "      <td>...</td>\n",
       "      <td>...</td>\n",
       "      <td>...</td>\n",
       "      <td>...</td>\n",
       "      <td>...</td>\n",
       "      <td>...</td>\n",
       "      <td>...</td>\n",
       "      <td>...</td>\n",
       "      <td>...</td>\n",
       "      <td>...</td>\n",
       "      <td>...</td>\n",
       "      <td>...</td>\n",
       "      <td>...</td>\n",
       "      <td>...</td>\n",
       "      <td>...</td>\n",
       "      <td>...</td>\n",
       "    </tr>\n",
       "    <tr>\n",
       "      <th>2672</th>\n",
       "      <td>5.1</td>\n",
       "      <td>4.4</td>\n",
       "      <td>4.6</td>\n",
       "      <td>90.0</td>\n",
       "      <td>34.0</td>\n",
       "      <td>53.0</td>\n",
       "      <td>230.0</td>\n",
       "      <td>3289.0</td>\n",
       "      <td>80639.0</td>\n",
       "      <td>11.0</td>\n",
       "      <td>11.0</td>\n",
       "      <td>31.0</td>\n",
       "      <td>10.9</td>\n",
       "      <td>1.1</td>\n",
       "      <td>0.8</td>\n",
       "      <td>16.2</td>\n",
       "      <td>43534.0</td>\n",
       "      <td>2.0</td>\n",
       "      <td>77.8</td>\n",
       "    </tr>\n",
       "    <tr>\n",
       "      <th>2673</th>\n",
       "      <td>4.9</td>\n",
       "      <td>3.9</td>\n",
       "      <td>3.0</td>\n",
       "      <td>100.0</td>\n",
       "      <td>121.0</td>\n",
       "      <td>86.0</td>\n",
       "      <td>417.0</td>\n",
       "      <td>2341.0</td>\n",
       "      <td>98837.0</td>\n",
       "      <td>10.0</td>\n",
       "      <td>7.0</td>\n",
       "      <td>27.0</td>\n",
       "      <td>46.4</td>\n",
       "      <td>0.5</td>\n",
       "      <td>1.2</td>\n",
       "      <td>15.0</td>\n",
       "      <td>23265.0</td>\n",
       "      <td>4.0</td>\n",
       "      <td>87.4</td>\n",
       "    </tr>\n",
       "    <tr>\n",
       "      <th>2674</th>\n",
       "      <td>5.9</td>\n",
       "      <td>4.6</td>\n",
       "      <td>4.5</td>\n",
       "      <td>81.0</td>\n",
       "      <td>39.0</td>\n",
       "      <td>83.0</td>\n",
       "      <td>342.0</td>\n",
       "      <td>3140.0</td>\n",
       "      <td>70756.0</td>\n",
       "      <td>14.0</td>\n",
       "      <td>10.0</td>\n",
       "      <td>31.0</td>\n",
       "      <td>43.1</td>\n",
       "      <td>0.7</td>\n",
       "      <td>0.5</td>\n",
       "      <td>9.2</td>\n",
       "      <td>20495.0</td>\n",
       "      <td>1.0</td>\n",
       "      <td>78.4</td>\n",
       "    </tr>\n",
       "    <tr>\n",
       "      <th>2675</th>\n",
       "      <td>4.8</td>\n",
       "      <td>3.6</td>\n",
       "      <td>4.1</td>\n",
       "      <td>82.0</td>\n",
       "      <td>49.0</td>\n",
       "      <td>74.0</td>\n",
       "      <td>347.0</td>\n",
       "      <td>4330.0</td>\n",
       "      <td>55122.0</td>\n",
       "      <td>12.0</td>\n",
       "      <td>4.0</td>\n",
       "      <td>28.0</td>\n",
       "      <td>36.0</td>\n",
       "      <td>0.5</td>\n",
       "      <td>0.8</td>\n",
       "      <td>14.2</td>\n",
       "      <td>8064.0</td>\n",
       "      <td>0.0</td>\n",
       "      <td>80.5</td>\n",
       "    </tr>\n",
       "    <tr>\n",
       "      <th>2676</th>\n",
       "      <td>4.1</td>\n",
       "      <td>5.2</td>\n",
       "      <td>4.0</td>\n",
       "      <td>27.0</td>\n",
       "      <td>41.0</td>\n",
       "      <td>72.0</td>\n",
       "      <td>173.0</td>\n",
       "      <td>1624.0</td>\n",
       "      <td>59410.0</td>\n",
       "      <td>14.0</td>\n",
       "      <td>4.0</td>\n",
       "      <td>30.0</td>\n",
       "      <td>54.5</td>\n",
       "      <td>0.6</td>\n",
       "      <td>1.2</td>\n",
       "      <td>4.2</td>\n",
       "      <td>6927.0</td>\n",
       "      <td>1.0</td>\n",
       "      <td>81.6</td>\n",
       "    </tr>\n",
       "  </tbody>\n",
       "</table>\n",
       "<p>2677 rows × 19 columns</p>\n",
       "</div>"
      ],
      "text/plain": [
       "      Average Daily PM2.5  Income Ratio  % Unemployed  % With Access  \\\n",
       "0                    11.7           4.6           3.9           69.0   \n",
       "1                    10.3           4.5           4.0           72.0   \n",
       "2                    11.5           5.8           5.9           54.0   \n",
       "3                    11.2           4.3           4.4           16.0   \n",
       "4                    11.7           4.1           4.0           23.0   \n",
       "...                   ...           ...           ...            ...   \n",
       "2672                  5.1           4.4           4.6           90.0   \n",
       "2673                  4.9           3.9           3.0          100.0   \n",
       "2674                  5.9           4.6           4.5           81.0   \n",
       "2675                  4.8           3.6           4.1           82.0   \n",
       "2676                  4.1           5.2           4.0           27.0   \n",
       "\n",
       "      PCP Rate  Dentist Rate  MHP Rate  Preventable Hosp. Rate  \\\n",
       "0         42.0          32.0      16.0                  6599.0   \n",
       "1         73.0          50.0      91.0                  3833.0   \n",
       "2         39.0          36.0       8.0                  4736.0   \n",
       "3         57.0          26.0       9.0                  5998.0   \n",
       "4         23.0          21.0      10.0                  4162.0   \n",
       "...        ...           ...       ...                     ...   \n",
       "2672      34.0          53.0     230.0                  3289.0   \n",
       "2673     121.0          86.0     417.0                  2341.0   \n",
       "2674      39.0          83.0     342.0                  3140.0   \n",
       "2675      49.0          74.0     347.0                  4330.0   \n",
       "2676      41.0          72.0     173.0                  1624.0   \n",
       "\n",
       "      Median Household Income  % Food Insecure  % Limited Access  \\\n",
       "0                     58233.0             13.0              12.0   \n",
       "1                     59871.0             12.0               5.0   \n",
       "2                     35972.0             23.0              11.0   \n",
       "3                     47918.0             16.0               3.0   \n",
       "4                     52902.0             11.0               3.0   \n",
       "...                       ...              ...               ...   \n",
       "2672                  80639.0             11.0              11.0   \n",
       "2673                  98837.0             10.0               7.0   \n",
       "2674                  70756.0             14.0              10.0   \n",
       "2675                  55122.0             12.0               4.0   \n",
       "2676                  59410.0             14.0               4.0   \n",
       "\n",
       "      % Insufficient Sleep  % Rural  % African American  % Asian  % Hispanic  \\\n",
       "0                     36.0     42.0                19.3      1.3         2.9   \n",
       "1                     33.0     42.3                 9.0      1.2         4.6   \n",
       "2                     39.0     67.8                47.9      0.5         4.2   \n",
       "3                     38.0     68.4                21.5      0.2         2.6   \n",
       "4                     36.0     90.0                 1.5      0.3         9.6   \n",
       "...                    ...      ...                 ...      ...         ...   \n",
       "2672                  31.0     10.9                 1.1      0.8        16.2   \n",
       "2673                  27.0     46.4                 0.5      1.2        15.0   \n",
       "2674                  31.0     43.1                 0.7      0.5         9.2   \n",
       "2675                  28.0     36.0                 0.5      0.8        14.2   \n",
       "2676                  30.0     54.5                 0.6      1.2         4.2   \n",
       "\n",
       "      Population  % Not Proficient in English  Life Expectancy  \n",
       "0        55504.0                          1.0             76.3  \n",
       "1       212628.0                          0.0             78.6  \n",
       "2        25270.0                          1.0             75.8  \n",
       "3        22668.0                          0.0             73.9  \n",
       "4        58013.0                          2.0             74.6  \n",
       "...          ...                          ...              ...  \n",
       "2672     43534.0                          2.0             77.8  \n",
       "2673     23265.0                          4.0             87.4  \n",
       "2674     20495.0                          1.0             78.4  \n",
       "2675      8064.0                          0.0             80.5  \n",
       "2676      6927.0                          1.0             81.6  \n",
       "\n",
       "[2677 rows x 19 columns]"
      ]
     },
     "execution_count": 7,
     "metadata": {},
     "output_type": "execute_result"
    }
   ],
   "source": [
    "county=county.dropna(axis=0).reset_index(drop=True)\n",
    "countyNew=county.drop(['County'],axis=1)\n",
    "countyNew=countyNew.astype(float)\n",
    "countyNew"
   ]
  },
  {
   "cell_type": "code",
   "execution_count": 8,
   "metadata": {},
   "outputs": [
    {
     "data": {
      "image/png": "[encoded data removed]",
      "text/plain": [
       "<Figure size 432x288 with 2 Axes>"
      ]
     },
     "metadata": {
      "needs_background": "light"
     },
     "output_type": "display_data"
    }
   ],
   "source": [
    "corrMatrix = countyNew.corr()\n",
    "hm=sn.heatmap(corrMatrix, annot=True, xticklabels=True, yticklabels=True, cmap='coolwarm', linecolor='white', linewidths=1)\n",
    "figure = hm.get_figure()    \n",
    "figure.savefig('svm_conf.png',dpi=600)\n"
   ]
  },
  {
   "cell_type": "code",
   "execution_count": 9,
   "metadata": {},
   "outputs": [
    {
     "data": {
      "text/plain": [
       "25838.5"
      ]
     },
     "execution_count": 9,
     "metadata": {},
     "output_type": "execute_result"
    }
   ],
   "source": [
    "countyNew=shuffle(countyNew)\n",
    "dfcma['Population'].median()"
   ]
  },
  {
   "cell_type": "code",
   "execution_count": 10,
   "metadata": {},
   "outputs": [
    {
     "data": {
      "text/html": [
       "<div>\n",
       "<style scoped>\n",
       "    .dataframe tbody tr th:only-of-type {\n",
       "        vertical-align: middle;\n",
       "    }\n",
       "\n",
       "    .dataframe tbody tr th {\n",
       "        vertical-align: top;\n",
       "    }\n",
       "\n",
       "    .dataframe thead th {\n",
       "        text-align: right;\n",
       "    }\n",
       "</style>\n",
       "<table border=\"1\" class=\"dataframe\">\n",
       "  <thead>\n",
       "    <tr style=\"text-align: right;\">\n",
       "      <th></th>\n",
       "      <th>Average Daily PM2.5</th>\n",
       "      <th>Income Ratio</th>\n",
       "      <th>% Unemployed</th>\n",
       "      <th>% With Access</th>\n",
       "      <th>PCP Rate</th>\n",
       "      <th>Dentist Rate</th>\n",
       "      <th>MHP Rate</th>\n",
       "      <th>Preventable Hosp. Rate</th>\n",
       "      <th>Median Household Income</th>\n",
       "      <th>% Food Insecure</th>\n",
       "      <th>% Limited Access</th>\n",
       "      <th>% Insufficient Sleep</th>\n",
       "      <th>% Rural</th>\n",
       "      <th>% African American</th>\n",
       "      <th>% Asian</th>\n",
       "      <th>% Hispanic</th>\n",
       "      <th>Population</th>\n",
       "      <th>% Not Proficient in English</th>\n",
       "      <th>Life Expectancy</th>\n",
       "    </tr>\n",
       "  </thead>\n",
       "  <tbody>\n",
       "    <tr>\n",
       "      <th>2214</th>\n",
       "      <td>7.4</td>\n",
       "      <td>4.1</td>\n",
       "      <td>3.0</td>\n",
       "      <td>36.0</td>\n",
       "      <td>24.0</td>\n",
       "      <td>10.0</td>\n",
       "      <td>10.0</td>\n",
       "      <td>5452.0</td>\n",
       "      <td>67171.0</td>\n",
       "      <td>10.0</td>\n",
       "      <td>1.0</td>\n",
       "      <td>33.0</td>\n",
       "      <td>63.0</td>\n",
       "      <td>1.6</td>\n",
       "      <td>0.4</td>\n",
       "      <td>41.9</td>\n",
       "      <td>20638.0</td>\n",
       "      <td>10.0</td>\n",
       "      <td>78.7</td>\n",
       "    </tr>\n",
       "    <tr>\n",
       "      <th>808</th>\n",
       "      <td>8.8</td>\n",
       "      <td>3.9</td>\n",
       "      <td>3.9</td>\n",
       "      <td>67.0</td>\n",
       "      <td>59.0</td>\n",
       "      <td>54.0</td>\n",
       "      <td>147.0</td>\n",
       "      <td>3352.0</td>\n",
       "      <td>53371.0</td>\n",
       "      <td>14.0</td>\n",
       "      <td>8.0</td>\n",
       "      <td>32.0</td>\n",
       "      <td>31.3</td>\n",
       "      <td>3.1</td>\n",
       "      <td>0.6</td>\n",
       "      <td>9.4</td>\n",
       "      <td>62510.0</td>\n",
       "      <td>1.0</td>\n",
       "      <td>77.8</td>\n",
       "    </tr>\n",
       "    <tr>\n",
       "      <th>252</th>\n",
       "      <td>7.9</td>\n",
       "      <td>4.1</td>\n",
       "      <td>4.3</td>\n",
       "      <td>80.0</td>\n",
       "      <td>62.0</td>\n",
       "      <td>66.0</td>\n",
       "      <td>232.0</td>\n",
       "      <td>3893.0</td>\n",
       "      <td>81015.0</td>\n",
       "      <td>10.0</td>\n",
       "      <td>3.0</td>\n",
       "      <td>29.0</td>\n",
       "      <td>41.4</td>\n",
       "      <td>1.5</td>\n",
       "      <td>2.0</td>\n",
       "      <td>6.3</td>\n",
       "      <td>182177.0</td>\n",
       "      <td>1.0</td>\n",
       "      <td>80.7</td>\n",
       "    </tr>\n",
       "    <tr>\n",
       "      <th>1116</th>\n",
       "      <td>7.4</td>\n",
       "      <td>4.2</td>\n",
       "      <td>7.5</td>\n",
       "      <td>95.0</td>\n",
       "      <td>24.0</td>\n",
       "      <td>24.0</td>\n",
       "      <td>48.0</td>\n",
       "      <td>4447.0</td>\n",
       "      <td>44594.0</td>\n",
       "      <td>14.0</td>\n",
       "      <td>1.0</td>\n",
       "      <td>35.0</td>\n",
       "      <td>100.0</td>\n",
       "      <td>0.3</td>\n",
       "      <td>0.2</td>\n",
       "      <td>1.6</td>\n",
       "      <td>8287.0</td>\n",
       "      <td>1.0</td>\n",
       "      <td>74.8</td>\n",
       "    </tr>\n",
       "    <tr>\n",
       "      <th>2033</th>\n",
       "      <td>9.8</td>\n",
       "      <td>4.7</td>\n",
       "      <td>4.3</td>\n",
       "      <td>76.0</td>\n",
       "      <td>84.0</td>\n",
       "      <td>87.0</td>\n",
       "      <td>306.0</td>\n",
       "      <td>3888.0</td>\n",
       "      <td>52905.0</td>\n",
       "      <td>17.0</td>\n",
       "      <td>11.0</td>\n",
       "      <td>36.0</td>\n",
       "      <td>9.1</td>\n",
       "      <td>47.0</td>\n",
       "      <td>2.9</td>\n",
       "      <td>5.2</td>\n",
       "      <td>411592.0</td>\n",
       "      <td>1.0</td>\n",
       "      <td>77.5</td>\n",
       "    </tr>\n",
       "    <tr>\n",
       "      <th>...</th>\n",
       "      <td>...</td>\n",
       "      <td>...</td>\n",
       "      <td>...</td>\n",
       "      <td>...</td>\n",
       "      <td>...</td>\n",
       "      <td>...</td>\n",
       "      <td>...</td>\n",
       "      <td>...</td>\n",
       "      <td>...</td>\n",
       "      <td>...</td>\n",
       "      <td>...</td>\n",
       "      <td>...</td>\n",
       "      <td>...</td>\n",
       "      <td>...</td>\n",
       "      <td>...</td>\n",
       "      <td>...</td>\n",
       "      <td>...</td>\n",
       "      <td>...</td>\n",
       "      <td>...</td>\n",
       "    </tr>\n",
       "    <tr>\n",
       "      <th>792</th>\n",
       "      <td>8.8</td>\n",
       "      <td>3.5</td>\n",
       "      <td>2.8</td>\n",
       "      <td>74.0</td>\n",
       "      <td>73.0</td>\n",
       "      <td>56.0</td>\n",
       "      <td>91.0</td>\n",
       "      <td>3075.0</td>\n",
       "      <td>65834.0</td>\n",
       "      <td>11.0</td>\n",
       "      <td>7.0</td>\n",
       "      <td>28.0</td>\n",
       "      <td>43.5</td>\n",
       "      <td>1.1</td>\n",
       "      <td>1.0</td>\n",
       "      <td>4.1</td>\n",
       "      <td>28708.0</td>\n",
       "      <td>0.0</td>\n",
       "      <td>78.2</td>\n",
       "    </tr>\n",
       "    <tr>\n",
       "      <th>2533</th>\n",
       "      <td>9.9</td>\n",
       "      <td>5.1</td>\n",
       "      <td>6.3</td>\n",
       "      <td>5.0</td>\n",
       "      <td>39.0</td>\n",
       "      <td>22.0</td>\n",
       "      <td>22.0</td>\n",
       "      <td>7240.0</td>\n",
       "      <td>43697.0</td>\n",
       "      <td>17.0</td>\n",
       "      <td>3.0</td>\n",
       "      <td>42.0</td>\n",
       "      <td>81.4</td>\n",
       "      <td>0.7</td>\n",
       "      <td>0.1</td>\n",
       "      <td>0.7</td>\n",
       "      <td>22349.0</td>\n",
       "      <td>0.0</td>\n",
       "      <td>72.1</td>\n",
       "    </tr>\n",
       "    <tr>\n",
       "      <th>1198</th>\n",
       "      <td>7.0</td>\n",
       "      <td>4.0</td>\n",
       "      <td>3.4</td>\n",
       "      <td>76.0</td>\n",
       "      <td>102.0</td>\n",
       "      <td>76.0</td>\n",
       "      <td>289.0</td>\n",
       "      <td>5657.0</td>\n",
       "      <td>66449.0</td>\n",
       "      <td>11.0</td>\n",
       "      <td>5.0</td>\n",
       "      <td>32.0</td>\n",
       "      <td>36.9</td>\n",
       "      <td>6.0</td>\n",
       "      <td>2.3</td>\n",
       "      <td>3.4</td>\n",
       "      <td>157822.0</td>\n",
       "      <td>2.0</td>\n",
       "      <td>82.2</td>\n",
       "    </tr>\n",
       "    <tr>\n",
       "      <th>1171</th>\n",
       "      <td>6.8</td>\n",
       "      <td>4.3</td>\n",
       "      <td>3.2</td>\n",
       "      <td>76.0</td>\n",
       "      <td>78.0</td>\n",
       "      <td>46.0</td>\n",
       "      <td>151.0</td>\n",
       "      <td>4554.0</td>\n",
       "      <td>63849.0</td>\n",
       "      <td>10.0</td>\n",
       "      <td>7.0</td>\n",
       "      <td>30.0</td>\n",
       "      <td>47.9</td>\n",
       "      <td>3.4</td>\n",
       "      <td>4.3</td>\n",
       "      <td>6.5</td>\n",
       "      <td>25831.0</td>\n",
       "      <td>2.0</td>\n",
       "      <td>80.6</td>\n",
       "    </tr>\n",
       "    <tr>\n",
       "      <th>1851</th>\n",
       "      <td>9.0</td>\n",
       "      <td>4.0</td>\n",
       "      <td>2.8</td>\n",
       "      <td>57.0</td>\n",
       "      <td>58.0</td>\n",
       "      <td>51.0</td>\n",
       "      <td>147.0</td>\n",
       "      <td>4206.0</td>\n",
       "      <td>68839.0</td>\n",
       "      <td>10.0</td>\n",
       "      <td>2.0</td>\n",
       "      <td>31.0</td>\n",
       "      <td>72.4</td>\n",
       "      <td>1.3</td>\n",
       "      <td>0.4</td>\n",
       "      <td>15.7</td>\n",
       "      <td>15669.0</td>\n",
       "      <td>4.0</td>\n",
       "      <td>77.9</td>\n",
       "    </tr>\n",
       "  </tbody>\n",
       "</table>\n",
       "<p>2409 rows × 19 columns</p>\n",
       "</div>"
      ],
      "text/plain": [
       "      Average Daily PM2.5  Income Ratio  % Unemployed  % With Access  \\\n",
       "2214                  7.4           4.1           3.0           36.0   \n",
       "808                   8.8           3.9           3.9           67.0   \n",
       "252                   7.9           4.1           4.3           80.0   \n",
       "1116                  7.4           4.2           7.5           95.0   \n",
       "2033                  9.8           4.7           4.3           76.0   \n",
       "...                   ...           ...           ...            ...   \n",
       "792                   8.8           3.5           2.8           74.0   \n",
       "2533                  9.9           5.1           6.3            5.0   \n",
       "1198                  7.0           4.0           3.4           76.0   \n",
       "1171                  6.8           4.3           3.2           76.0   \n",
       "1851                  9.0           4.0           2.8           57.0   \n",
       "\n",
       "      PCP Rate  Dentist Rate  MHP Rate  Preventable Hosp. Rate  \\\n",
       "2214      24.0          10.0      10.0                  5452.0   \n",
       "808       59.0          54.0     147.0                  3352.0   \n",
       "252       62.0          66.0     232.0                  3893.0   \n",
       "1116      24.0          24.0      48.0                  4447.0   \n",
       "2033      84.0          87.0     306.0                  3888.0   \n",
       "...        ...           ...       ...                     ...   \n",
       "792       73.0          56.0      91.0                  3075.0   \n",
       "2533      39.0          22.0      22.0                  7240.0   \n",
       "1198     102.0          76.0     289.0                  5657.0   \n",
       "1171      78.0          46.0     151.0                  4554.0   \n",
       "1851      58.0          51.0     147.0                  4206.0   \n",
       "\n",
       "      Median Household Income  % Food Insecure  % Limited Access  \\\n",
       "2214                  67171.0             10.0               1.0   \n",
       "808                   53371.0             14.0               8.0   \n",
       "252                   81015.0             10.0               3.0   \n",
       "1116                  44594.0             14.0               1.0   \n",
       "2033                  52905.0             17.0              11.0   \n",
       "...                       ...              ...               ...   \n",
       "792                   65834.0             11.0               7.0   \n",
       "2533                  43697.0             17.0               3.0   \n",
       "1198                  66449.0             11.0               5.0   \n",
       "1171                  63849.0             10.0               7.0   \n",
       "1851                  68839.0             10.0               2.0   \n",
       "\n",
       "      % Insufficient Sleep  % Rural  % African American  % Asian  % Hispanic  \\\n",
       "2214                  33.0     63.0                 1.6      0.4        41.9   \n",
       "808                   32.0     31.3                 3.1      0.6         9.4   \n",
       "252                   29.0     41.4                 1.5      2.0         6.3   \n",
       "1116                  35.0    100.0                 0.3      0.2         1.6   \n",
       "2033                  36.0      9.1                47.0      2.9         5.2   \n",
       "...                    ...      ...                 ...      ...         ...   \n",
       "792                   28.0     43.5                 1.1      1.0         4.1   \n",
       "2533                  42.0     81.4                 0.7      0.1         0.7   \n",
       "1198                  32.0     36.9                 6.0      2.3         3.4   \n",
       "1171                  30.0     47.9                 3.4      4.3         6.5   \n",
       "1851                  31.0     72.4                 1.3      0.4        15.7   \n",
       "\n",
       "      Population  % Not Proficient in English  Life Expectancy  \n",
       "2214     20638.0                         10.0             78.7  \n",
       "808      62510.0                          1.0             77.8  \n",
       "252     182177.0                          1.0             80.7  \n",
       "1116      8287.0                          1.0             74.8  \n",
       "2033    411592.0                          1.0             77.5  \n",
       "...          ...                          ...              ...  \n",
       "792      28708.0                          0.0             78.2  \n",
       "2533     22349.0                          0.0             72.1  \n",
       "1198    157822.0                          2.0             82.2  \n",
       "1171     25831.0                          2.0             80.6  \n",
       "1851     15669.0                          4.0             77.9  \n",
       "\n",
       "[2409 rows x 19 columns]"
      ]
     },
     "execution_count": 10,
     "metadata": {},
     "output_type": "execute_result"
    }
   ],
   "source": [
    "fullSet=countyNew\n",
    "trainingSet=countyNew.sample(frac=.9)\n",
    "part_40=countyNew.drop(trainingSet.index)\n",
    "validationSet=part_40.sample(frac=.5)\n",
    "testSet=part_40.drop(validationSet.index)\n",
    "trainingSet"
   ]
  },
  {
   "cell_type": "code",
   "execution_count": 11,
   "metadata": {},
   "outputs": [],
   "source": [
    "scalerA = preprocessing.StandardScaler()\n",
    "scalerB=preprocessing.StandardScaler()"
   ]
  },
  {
   "cell_type": "code",
   "execution_count": 12,
   "metadata": {},
   "outputs": [
    {
     "name": "stdout",
     "output_type": "stream",
     "text": [
      "[9.22794173e+00 4.52659694e+00 4.62902503e+00 6.56720209e+01\n",
      " 5.64826298e+01 4.69043706e+01 1.51646993e+02 4.82764737e+03\n",
      " 5.62857759e+04 1.38143444e+01 7.36421367e+00 3.33205080e+01\n",
      " 5.35670900e+01 9.25069107e+00 1.56578259e+00 9.12532686e+00\n",
      " 1.19847124e+05 1.65969369e+00] \n",
      " [77.43432947] \n",
      "\n"
     ]
    },
    {
     "data": {
      "text/plain": [
       "array([[-0.97994642, -0.60118598, -1.06835758, ...,  2.53893431,\n",
       "        -0.27735797,  3.11094678],\n",
       "       [-0.22941648, -0.88303797, -0.47811384, ...,  0.02127793,\n",
       "        -0.16029683, -0.24606674],\n",
       "       [-0.71190001, -0.60118598, -0.21578329, ..., -0.21886776,\n",
       "         0.17425502, -0.24606674],\n",
       "       ...,\n",
       "       [-1.19438354, -0.74211198, -0.80602703, ..., -0.44352018,\n",
       "         0.10616599,  0.12693477],\n",
       "       [-1.30160211, -0.31933399, -0.9371923 , ..., -0.20337449,\n",
       "        -0.26283996,  0.12693477],\n",
       "       [-0.12219792, -0.74211198, -1.19952285, ...,  0.50931593,\n",
       "        -0.29124976,  0.87293777]])"
      ]
     },
     "execution_count": 12,
     "metadata": {},
     "output_type": "execute_result"
    }
   ],
   "source": [
    "lengthTrain=len(trainingSet.index)\n",
    "xtrain=np.ones((lengthTrain,len(trainingSet.columns)))\n",
    "#put training set feature data into xtrain and make it normalized using min max scaler\n",
    "xstats=scalerA.fit(fullSet[fullSet.columns[0:-1]].values.astype(float)) \n",
    "xtrain=scalerA.transform(trainingSet[trainingSet.columns[0:-1]].values.astype(float)) \n",
    "\n",
    "#we normalize life expectancy\n",
    "ystats=scalerB.fit(fullSet[['Life Expectancy']].values.astype(float))\n",
    "ytrain=scalerB.transform(trainingSet[['Life Expectancy']].values.astype(float))\n",
    "print(scalerA.mean_, '\\n',scalerB.mean_,'\\n')\n",
    "xtrain"
   ]
  },
  {
   "cell_type": "code",
   "execution_count": 13,
   "metadata": {},
   "outputs": [
    {
     "data": {
      "text/plain": [
       "array([[ 1.32525267, -1.44674196,  0.17771253, ..., -0.21112113,\n",
       "        -0.29555233, -0.24606674],\n",
       "       [ 0.52111345,  1.51270396,  0.24329517, ..., -0.52873316,\n",
       "        -0.23036522, -0.24606674],\n",
       "       [-0.92633714,  1.37177796,  0.70237363, ...,  1.91920351,\n",
       "         0.43626711,  2.36494378],\n",
       "       ...,\n",
       "       [ 0.19945777,  1.79455595,  0.96470418, ..., -0.5364798 ,\n",
       "        -0.2779926 , -0.61906824],\n",
       "       [-0.12219792, -0.037482  , -0.08461802, ..., -0.59845288,\n",
       "        -0.29121621, -0.61906824],\n",
       "       [-1.19438354, -0.17840799, -0.9371923 , ...,  2.10512275,\n",
       "        -0.31936602,  1.99194228]])"
      ]
     },
     "execution_count": 13,
     "metadata": {},
     "output_type": "execute_result"
    }
   ],
   "source": [
    "xval=np.ones((len(validationSet.index),len(validationSet.columns)))\n",
    "\n",
    "xval=scalerA.transform(validationSet[validationSet.columns[0:-1]].values.astype(float)) \n",
    "\n",
    "yval=scalerB.transform(validationSet[['Life Expectancy']].values.astype(float))\n",
    "xval"
   ]
  },
  {
   "cell_type": "code",
   "execution_count": 14,
   "metadata": {},
   "outputs": [
    {
     "data": {
      "text/plain": [
       "array([[-0.1758072 ,  0.38529599,  0.636791  , ...,  0.11423755,\n",
       "        -0.31776968, -0.24606674],\n",
       "       [-0.92633714, -0.88303797, -1.19952285, ...,  0.98186067,\n",
       "         0.04080275, -0.24606674],\n",
       "       [ 1.53968979, -1.16488996,  0.44004308, ..., -0.52873316,\n",
       "         0.0382419 , -0.61906824],\n",
       "       ...,\n",
       "       [ 0.78915986,  1.23085196,  2.14519166, ..., -0.2266144 ,\n",
       "        -0.28753988, -0.24606674],\n",
       "       [ 0.14584849, -1.16488996, -0.28136593, ..., -0.23436103,\n",
       "        -0.27758163, -0.24606674],\n",
       "       [-1.30160211, -0.31933399, -1.33068813, ..., -0.59070624,\n",
       "        -0.20068338, -0.61906824]])"
      ]
     },
     "execution_count": 14,
     "metadata": {},
     "output_type": "execute_result"
    }
   ],
   "source": [
    "xtest=np.ones((len(testSet.index),len(testSet.columns)))\n",
    "\n",
    "xtest=scalerA.transform(testSet[testSet.columns[0:-1]].values.astype(float)) \n",
    "\n",
    "ytest=scalerB.transform(testSet[['Life Expectancy']].values.astype(float))\n",
    "xtest"
   ]
  },
  {
   "cell_type": "code",
   "execution_count": 15,
   "metadata": {},
   "outputs": [],
   "source": [
    "def within_range_percent(ypred,yreal):\n",
    "    return np.count_nonzero(abs(ypred-yreal)<1.5)/len(ypred)"
   ]
  },
  {
   "cell_type": "code",
   "execution_count": 16,
   "metadata": {},
   "outputs": [
    {
     "name": "stdout",
     "output_type": "stream",
     "text": [
      "0.6598774361496778 \n",
      "\n"
     ]
    }
   ],
   "source": [
    "#LIN REG 1\n",
    "\n",
    "reg=LinearRegression().fit(xtrain,ytrain)\n",
    "r2=reg.score(xtrain,ytrain)\n",
    "print(r2,'\\n')\n"
   ]
  },
  {
   "cell_type": "code",
   "execution_count": 17,
   "metadata": {},
   "outputs": [
    {
     "name": "stdout",
     "output_type": "stream",
     "text": [
      "0.7027812370278124 \n",
      "\n"
     ]
    },
    {
     "data": {
      "image/png": "[encoded data removed]",
      "text/plain": [
       "<Figure size 432x288 with 1 Axes>"
      ]
     },
     "metadata": {
      "needs_background": "light"
     },
     "output_type": "display_data"
    }
   ],
   "source": [
    "ynewreal=scalerB.inverse_transform(ytrain)\n",
    "ynewpred=scalerB.inverse_transform(reg.predict(xtrain))\n",
    "\n",
    "print(within_range_percent(ynewreal,ynewpred),'\\n')\n",
    "plt.plot(ynewreal,ynewpred,'o')\n",
    "plt.xlabel('True Life Expectancy (years)')\n",
    "plt.ylabel('Predicted Life Expectancy (Years)')\n",
    "plt.title('True vs Predicted LE- Lin Reg Train')\n",
    "plt.savefig('LinearRegTrain.png')"
   ]
  },
  {
   "cell_type": "code",
   "execution_count": 18,
   "metadata": {
    "scrolled": true
   },
   "outputs": [
    {
     "name": "stdout",
     "output_type": "stream",
     "text": [
      "0.7023383191788533 \n",
      "\n",
      "0.7313432835820896 \n",
      "\n"
     ]
    },
    {
     "data": {
      "image/png": "[encoded data removed]",
      "text/plain": [
       "<Figure size 432x288 with 1 Axes>"
      ]
     },
     "metadata": {
      "needs_background": "light"
     },
     "output_type": "display_data"
    }
   ],
   "source": [
    "r2=reg.score(xval,yval)\n",
    "print(r2,'\\n')\n",
    "\n",
    "ynewreal=scalerB.inverse_transform(yval)\n",
    "ynewpred=scalerB.inverse_transform(reg.predict(xval))\n",
    "\n",
    "print(within_range_percent(ynewreal,ynewpred),'\\n')\n",
    "\n",
    "plt.plot(ynewreal,ynewpred,'o')\n",
    "plt.xlabel('True Life Expectancy (years)')\n",
    "plt.ylabel('Predicted Life Expectancy (Years)')\n",
    "plt.title('True vs Predicted LE- Lin Reg Val')\n",
    "plt.savefig('LinearRegVal.png')"
   ]
  },
  {
   "cell_type": "code",
   "execution_count": null,
   "metadata": {},
   "outputs": [],
   "source": []
  },
  {
   "cell_type": "code",
   "execution_count": 19,
   "metadata": {},
   "outputs": [
    {
     "name": "stdout",
     "output_type": "stream",
     "text": [
      "0.7479475950582471 \n",
      "\n",
      "0.751349107513491 \n",
      "\n"
     ]
    },
    {
     "data": {
      "image/png": "[encoded data removed]",
      "text/plain": [
       "<Figure size 432x288 with 1 Axes>"
      ]
     },
     "metadata": {
      "needs_background": "light"
     },
     "output_type": "display_data"
    }
   ],
   "source": [
    "#LIN REG 2\n",
    "poly = PolynomialFeatures(2)\n",
    "model=LinearRegression()\n",
    "xtrainpoly=poly.fit_transform(xtrain)\n",
    "regB=model.fit(xtrainpoly,ytrain)\n",
    "\n",
    "r2=regB.score(xtrainpoly,ytrain)\n",
    "print(r2,'\\n')\n",
    "\n",
    "ynewreal=scalerB.inverse_transform(ytrain)\n",
    "ynewpred=scalerB.inverse_transform(regB.predict(xtrainpoly))\n",
    "\n",
    "print(within_range_percent(ynewreal,ynewpred),'\\n')\n",
    "\n",
    "plt.plot(ynewreal,ynewpred,'o')\n",
    "plt.xlabel('True Life Expectancy (years)')\n",
    "plt.ylabel('Predicted Life Expectancy (Years)')\n",
    "plt.title('True vs Predicted LE- Poly Reg Train')\n",
    "plt.savefig('PolyRegTrain.png')"
   ]
  },
  {
   "cell_type": "code",
   "execution_count": null,
   "metadata": {},
   "outputs": [],
   "source": []
  },
  {
   "cell_type": "code",
   "execution_count": 20,
   "metadata": {},
   "outputs": [
    {
     "name": "stdout",
     "output_type": "stream",
     "text": [
      "0.6921887089952781 \n",
      "\n",
      "0.7388059701492538 \n",
      "\n"
     ]
    },
    {
     "data": {
      "image/png": "[encoded data removed]",
      "text/plain": [
       "<Figure size 432x288 with 1 Axes>"
      ]
     },
     "metadata": {
      "needs_background": "light"
     },
     "output_type": "display_data"
    }
   ],
   "source": [
    "poly = PolynomialFeatures(2)\n",
    "xvalpoly=poly.fit_transform(xval)\n",
    "r2=regB.score(xvalpoly,yval)\n",
    "print(r2,'\\n')\n",
    "\n",
    "ynewreal=scalerB.inverse_transform(yval)\n",
    "ynewpred=scalerB.inverse_transform(regB.predict(xvalpoly))\n",
    "\n",
    "print(within_range_percent(ynewreal,ynewpred),'\\n')\n",
    "\n",
    "\n",
    "plt.plot(ynewreal,ynewpred,'o')\n",
    "plt.xlabel('True Life Expectancy (years)')\n",
    "plt.ylabel('Predicted Life Expectancy (Years)')\n",
    "plt.title('True vs Predicted LE- Poly Reg Val')\n",
    "plt.savefig('PolyRegVal.png')\n"
   ]
  },
  {
   "cell_type": "code",
   "execution_count": null,
   "metadata": {},
   "outputs": [],
   "source": []
  },
  {
   "cell_type": "code",
   "execution_count": 21,
   "metadata": {},
   "outputs": [
    {
     "name": "stdout",
     "output_type": "stream",
     "text": [
      "0.9078299577870821 \n",
      "\n",
      "0.9153175591531756 \n",
      "\n"
     ]
    }
   ],
   "source": [
    "#LIN REG 3\n",
    "poly = PolynomialFeatures(3)\n",
    "model=LinearRegression()\n",
    "xtrainpoly=poly.fit_transform(xtrain)\n",
    "regB=model.fit(xtrainpoly,ytrain)\n",
    "\n",
    "\n",
    "r2=regB.score(xtrainpoly,ytrain)\n",
    "print(r2,'\\n')\n",
    "\n",
    "ynewreal=scalerB.inverse_transform(ytrain)\n",
    "ynewpred=scalerB.inverse_transform(regB.predict(xtrainpoly))\n",
    "\n",
    "print(within_range_percent(ynewreal,ynewpred),'\\n')\n"
   ]
  },
  {
   "cell_type": "code",
   "execution_count": 22,
   "metadata": {},
   "outputs": [
    {
     "name": "stdout",
     "output_type": "stream",
     "text": [
      "-4.806799003974456 \n",
      "\n",
      "0.5149253731343284 \n",
      "\n"
     ]
    }
   ],
   "source": [
    "poly = PolynomialFeatures(3)\n",
    "xvalpoly=poly.fit_transform(xval)\n",
    "regB.score(xvalpoly,yval)\n",
    "\n",
    "r2=regB.score(xvalpoly,yval)\n",
    "print(r2,'\\n')\n",
    "\n",
    "ynewreal=scalerB.inverse_transform(yval)\n",
    "ynewpred=scalerB.inverse_transform(regB.predict(xvalpoly))\n",
    "\n",
    "print(within_range_percent(ynewreal,ynewpred),'\\n')"
   ]
  },
  {
   "cell_type": "code",
   "execution_count": 23,
   "metadata": {},
   "outputs": [
    {
     "name": "stdout",
     "output_type": "stream",
     "text": [
      "1.0 \n",
      "\n",
      "1.0 \n",
      "\n"
     ]
    }
   ],
   "source": [
    "#LIN REG 4\n",
    "poly = PolynomialFeatures(4)\n",
    "model=LinearRegression()\n",
    "xtrainpoly=poly.fit_transform(xtrain)\n",
    "regB=model.fit(xtrainpoly,ytrain)\n",
    "regB.score(xtrainpoly,ytrain)\n",
    "\n",
    "\n",
    "r2=regB.score(xtrainpoly,ytrain)\n",
    "print(r2,'\\n')\n",
    "\n",
    "ynewreal=scalerB.inverse_transform(ytrain)\n",
    "ynewpred=scalerB.inverse_transform(regB.predict(xtrainpoly))\n",
    "\n",
    "print(within_range_percent(ynewreal,ynewpred),'\\n')"
   ]
  },
  {
   "cell_type": "code",
   "execution_count": 24,
   "metadata": {},
   "outputs": [
    {
     "name": "stdout",
     "output_type": "stream",
     "text": [
      "-103.40184369921172 \n",
      "\n",
      "0.41044776119402987 \n",
      "\n"
     ]
    }
   ],
   "source": [
    "poly = PolynomialFeatures(4)\n",
    "xvalpoly=poly.fit_transform(xval)\n",
    "regB.score(xvalpoly,yval)\n",
    "\n",
    "r2=regB.score(xvalpoly,yval)\n",
    "print(r2,'\\n')\n",
    "\n",
    "ynewreal=scalerB.inverse_transform(yval)\n",
    "ynewpred=scalerB.inverse_transform(regB.predict(xvalpoly))\n",
    "\n",
    "print(within_range_percent(ynewreal,ynewpred),'\\n')"
   ]
  },
  {
   "cell_type": "code",
   "execution_count": 25,
   "metadata": {},
   "outputs": [],
   "source": [
    "#RIDGE REG 1\n",
    "model=RidgeCV(alphas=[.1,.4,.2,.25,.05,.5,1,.15,.08,2])\n",
    "model.n_iter=10^5\n",
    "clf = model.fit(xtrain, ytrain)\n",
    "\n"
   ]
  },
  {
   "cell_type": "code",
   "execution_count": 26,
   "metadata": {},
   "outputs": [
    {
     "name": "stdout",
     "output_type": "stream",
     "text": [
      "0.6598770234109242 \n",
      "\n",
      "0.7027812370278124 \n",
      "\n"
     ]
    }
   ],
   "source": [
    "r2=clf.score(xtrain,ytrain)\n",
    "print(r2,'\\n')\n",
    "\n",
    "ynewreal=scalerB.inverse_transform(ytrain)\n",
    "ynewpred=scalerB.inverse_transform(clf.predict(xtrain))\n",
    "\n",
    "print(within_range_percent(ynewreal,ynewpred),'\\n')"
   ]
  },
  {
   "cell_type": "code",
   "execution_count": 27,
   "metadata": {},
   "outputs": [
    {
     "name": "stdout",
     "output_type": "stream",
     "text": [
      "0.7024256859303224 \n",
      "\n",
      "0.7313432835820896 \n",
      "\n"
     ]
    }
   ],
   "source": [
    "r2=clf.score(xval,yval)\n",
    "print(r2,'\\n')\n",
    "\n",
    "ynewreal=scalerB.inverse_transform(yval)\n",
    "ynewpred=scalerB.inverse_transform(clf.predict(xval))\n",
    "\n",
    "print(within_range_percent(ynewreal,ynewpred),'\\n')"
   ]
  },
  {
   "cell_type": "code",
   "execution_count": 28,
   "metadata": {},
   "outputs": [
    {
     "name": "stdout",
     "output_type": "stream",
     "text": [
      "0.7479261825821311 \n",
      "\n",
      "0.75093399750934 \n",
      "\n"
     ]
    }
   ],
   "source": [
    "#RIDGE REG 2\n",
    "model=RidgeCV(alphas=[.1,.4,.2,.25,.05,.5,1,.15,.08,2])\n",
    "model.n_iter=10^5\n",
    "poly = PolynomialFeatures(2)\n",
    "xtrainpoly=poly.fit_transform(xtrain)\n",
    "regB=model.fit(xtrainpoly,ytrain)\n",
    "r2=regB.score(xtrainpoly,ytrain)\n",
    "print(r2,'\\n')\n",
    "\n",
    "ynewreal=scalerB.inverse_transform(ytrain)\n",
    "ynewpred=scalerB.inverse_transform(regB.predict(xtrainpoly))\n",
    "\n",
    "print(within_range_percent(ynewreal,ynewpred),'\\n')"
   ]
  },
  {
   "cell_type": "code",
   "execution_count": 29,
   "metadata": {},
   "outputs": [
    {
     "name": "stdout",
     "output_type": "stream",
     "text": [
      "0.6929227020148483 \n",
      "\n",
      "0.7388059701492538 \n",
      "\n"
     ]
    }
   ],
   "source": [
    "poly = PolynomialFeatures(2)\n",
    "xvalpoly=poly.fit_transform(xval)\n",
    "r2=regB.score(xvalpoly,yval)\n",
    "print(r2,'\\n')\n",
    "\n",
    "ynewreal=scalerB.inverse_transform(yval)\n",
    "ynewpred=scalerB.inverse_transform(regB.predict(xvalpoly))\n",
    "\n",
    "print(within_range_percent(ynewreal,ynewpred),'\\n')"
   ]
  },
  {
   "cell_type": "code",
   "execution_count": 30,
   "metadata": {},
   "outputs": [
    {
     "name": "stdout",
     "output_type": "stream",
     "text": [
      "0.8959650042097755 \n",
      "\n",
      "0.8995433789954338 \n",
      "\n"
     ]
    }
   ],
   "source": [
    "model=RidgeCV(alphas=[.1,.4,.2,.25,.05,.5,1,.15,.08,2,3.1,3.3,3.5,3.7,3.8,4,4.1])\n",
    "model.n_iter=10^8\n",
    "poly = PolynomialFeatures(3)\n",
    "xtrainpoly=poly.fit_transform(xtrain)\n",
    "regB=model.fit(xtrainpoly,ytrain)\n",
    "\n",
    "regB=model.fit(xtrainpoly,ytrain)\n",
    "r2=regB.score(xtrainpoly,ytrain)\n",
    "print(r2,'\\n')\n",
    "\n",
    "ynewreal=scalerB.inverse_transform(ytrain)\n",
    "ynewpred=scalerB.inverse_transform(regB.predict(xtrainpoly))\n",
    "\n",
    "print(within_range_percent(ynewreal,ynewpred),'\\n')"
   ]
  },
  {
   "cell_type": "code",
   "execution_count": 31,
   "metadata": {},
   "outputs": [
    {
     "name": "stdout",
     "output_type": "stream",
     "text": [
      "-2.0237601702804406 \n",
      "\n",
      "0.5895522388059702 \n",
      "\n"
     ]
    }
   ],
   "source": [
    "poly = PolynomialFeatures(3)\n",
    "xvalpoly=poly.fit_transform(xval)\n",
    "r2=regB.score(xvalpoly,yval)\n",
    "print(r2,'\\n')\n",
    "\n",
    "ynewreal=scalerB.inverse_transform(yval)\n",
    "ynewpred=scalerB.inverse_transform(regB.predict(xvalpoly))\n",
    "\n",
    "print(within_range_percent(ynewreal,ynewpred),'\\n')"
   ]
  },
  {
   "cell_type": "code",
   "execution_count": 32,
   "metadata": {},
   "outputs": [],
   "source": [
    "model=RidgeCV(alphas=[.8,1,1.2,1.4,2,3,4,4.5,5,5.7,5.8,7])\n",
    "model.n_iter=10^8\n",
    "poly = PolynomialFeatures(4)\n",
    "xtrainpoly=poly.fit_transform(xtrain)\n",
    "regB=model.fit(xtrainpoly,ytrain)\n",
    "\n"
   ]
  },
  {
   "cell_type": "code",
   "execution_count": 33,
   "metadata": {},
   "outputs": [],
   "source": [
    "poly = PolynomialFeatures(4)\n",
    "xvalpoly=poly.fit_transform(xval)\n"
   ]
  },
  {
   "cell_type": "code",
   "execution_count": 34,
   "metadata": {},
   "outputs": [
    {
     "name": "stdout",
     "output_type": "stream",
     "text": [
      "0.9491335183066226 \n",
      "\n",
      "0.9738480697384807 \n",
      "\n"
     ]
    }
   ],
   "source": [
    "clfB= RandomForestRegressor(n_estimators=100, max_depth=15, random_state=0)\n",
    "clfB.fit(xtrain,ytrain.ravel())\n",
    "r2=clfB.score(xtrain,ytrain)\n",
    "print(r2,'\\n')\n",
    "\n",
    "ynewreal=scalerB.inverse_transform(ytrain)\n",
    "ynewpred=scalerB.inverse_transform(clfB.predict(xtrain))\n",
    "\n",
    "print(within_range_percent(ynewreal.ravel(),np.transpose(ynewpred)),'\\n')\n"
   ]
  },
  {
   "cell_type": "code",
   "execution_count": 35,
   "metadata": {},
   "outputs": [
    {
     "name": "stdout",
     "output_type": "stream",
     "text": [
      "0.6737844001284863 \n",
      "\n",
      "0.7910447761194029 \n",
      "\n"
     ]
    }
   ],
   "source": [
    "\n",
    "r2=clfB.score(xval,yval)\n",
    "print(r2,'\\n')\n",
    "\n",
    "ynewreal=scalerB.inverse_transform(yval)\n",
    "ynewpred=scalerB.inverse_transform(clfB.predict(xval))\n",
    "\n",
    "print(within_range_percent(ynewreal.ravel(),np.transpose(ynewpred)),'\\n')"
   ]
  },
  {
   "cell_type": "code",
   "execution_count": 36,
   "metadata": {},
   "outputs": [
    {
     "name": "stdout",
     "output_type": "stream",
     "text": [
      "0.9512217637099432 \n",
      "\n",
      "0.9763387297633873 \n",
      "\n"
     ]
    }
   ],
   "source": [
    "clfB= RandomForestRegressor(n_estimators=200, max_depth=15, random_state=0)\n",
    "clfB.fit(xtrain,ytrain.ravel())\n",
    "r2=clfB.score(xtrain,ytrain)\n",
    "print(r2,'\\n')\n",
    "\n",
    "ynewreal=scalerB.inverse_transform(ytrain)\n",
    "ynewpred=scalerB.inverse_transform(clfB.predict(xtrain))\n",
    "\n",
    "print(within_range_percent(ynewreal.ravel(),np.transpose(ynewpred)),'\\n')"
   ]
  },
  {
   "cell_type": "code",
   "execution_count": 37,
   "metadata": {},
   "outputs": [
    {
     "name": "stdout",
     "output_type": "stream",
     "text": [
      "0.6787059756288237 \n",
      "\n",
      "0.7910447761194029 \n",
      "\n"
     ]
    }
   ],
   "source": [
    "r2=clfB.score(xval,yval.ravel())\n",
    "print(r2,'\\n')\n",
    "\n",
    "ynewreal=scalerB.inverse_transform(yval)\n",
    "ynewpred=scalerB.inverse_transform(clfB.predict(xval))\n",
    "\n",
    "print(within_range_percent(ynewreal.ravel(),np.transpose(ynewpred)),'\\n')"
   ]
  },
  {
   "cell_type": "code",
   "execution_count": 38,
   "metadata": {},
   "outputs": [
    {
     "name": "stdout",
     "output_type": "stream",
     "text": [
      "0.9516746612013618 \n",
      "\n",
      "0.9759236197592362 \n",
      "\n"
     ]
    }
   ],
   "source": [
    "clfB= RandomForestRegressor(n_estimators=300, max_depth=15, random_state=0)\n",
    "clfB.fit(xtrain,ytrain.ravel())\n",
    "r2=clfB.score(xtrain,ytrain.ravel())\n",
    "print(r2,'\\n')\n",
    "\n",
    "ynewreal=scalerB.inverse_transform(ytrain)\n",
    "ynewpred=scalerB.inverse_transform(clfB.predict(xtrain))\n",
    "\n",
    "print(within_range_percent(ynewreal.ravel(),np.transpose(ynewpred)),'\\n')"
   ]
  },
  {
   "cell_type": "code",
   "execution_count": 39,
   "metadata": {},
   "outputs": [
    {
     "name": "stdout",
     "output_type": "stream",
     "text": [
      "0.6805574529857836 \n",
      "\n",
      "0.7761194029850746 \n",
      "\n"
     ]
    }
   ],
   "source": [
    "r2=clfB.score(xval,yval)\n",
    "print(r2,'\\n')\n",
    "\n",
    "ynewreal=scalerB.inverse_transform(yval)\n",
    "ynewpred=scalerB.inverse_transform(clfB.predict(xval))\n",
    "\n",
    "print(within_range_percent(ynewreal.ravel(),np.transpose(ynewpred)),'\\n')"
   ]
  },
  {
   "cell_type": "markdown",
   "metadata": {},
   "source": [
    "###### "
   ]
  }
 ],
 "metadata": {
  "kernelspec": {
   "display_name": "Python 3",
   "language": "python",
   "name": "python3"
  },
  "language_info": {
   "codemirror_mode": {
    "name": "ipython",
    "version": 3
   },
   "file_extension": ".py",
   "mimetype": "text/x-python",
   "name": "python",
   "nbconvert_exporter": "python",
   "pygments_lexer": "ipython3",
   "version": "3.8.5"
  }
 },
 "nbformat": 4,
 "nbformat_minor": 4
}
