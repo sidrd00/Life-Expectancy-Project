{
 "cells": [
  {
   "cell_type": "code",
   "execution_count": 1,
   "metadata": {},
   "outputs": [],
   "source": [
    "\n",
    "%matplotlib inline\n",
    "import numpy as np\n",
    "import pandas as pd\n",
    "import seaborn as sns\n",
    "import matplotlib.pyplot as plt\n",
    "\n",
    "from sklearn import preprocessing\n",
    "from sklearn.model_selection import train_test_split\n",
    "from sklearn.linear_model import LinearRegression\n",
    "from sklearn.linear_model import SGDRegressor\n",
    "from sklearn.metrics import mean_squared_error, r2_score\n",
    "from sklearn.model_selection import cross_val_score\n",
    "from sklearn.utils import shuffle\n",
    "from sklearn.preprocessing import PolynomialFeatures\n",
    "from sklearn.linear_model import Ridge\n",
    "from sklearn.linear_model import RidgeCV\n",
    "from sklearn.ensemble import RandomForestRegressor\n",
    "import seaborn as sn"
   ]
  },
  {
   "cell_type": "code",
   "execution_count": 2,
   "metadata": {},
   "outputs": [],
   "source": [
    "df=pd.read_csv('countyData2019.csv')\n",
    "headers = df.iloc[0]\n",
    "dfc=pd.DataFrame(df.values[1:], columns=headers)\n"
   ]
  },
  {
   "cell_type": "code",
   "execution_count": 3,
   "metadata": {},
   "outputs": [],
   "source": [
    "df=pd.read_csv('additionalCountyData2019.csv')\n",
    "headers = df.iloc[0]\n",
    "dfca=pd.DataFrame(df.values[1:], columns=headers)\n"
   ]
  },
  {
   "cell_type": "code",
   "execution_count": 4,
   "metadata": {},
   "outputs": [],
   "source": [
    "df=pd.read_csv('moreCountyData2019.csv')\n",
    "dfcma=df\n"
   ]
  },
  {
   "cell_type": "code",
   "execution_count": 5,
   "metadata": {},
   "outputs": [],
   "source": [
    "dfI=pd.read_csv('CountyIncome2019.csv')\n",
    "headersB=dfI.iloc[2]\n",
    "dfI=pd.DataFrame(dfI.values[3:], columns=headersB)\n",
    "dfI.drop(dfI.index[dfI['County FIPS Code'] == '000'], inplace = True)\n",
    "dfI=dfI.reset_index()\n"
   ]
  },
  {
   "cell_type": "code",
   "execution_count": 6,
   "metadata": {},
   "outputs": [],
   "source": [
    "#county=dfc[['County', 'Average Daily PM2.5','Income Ratio', '% Unemployed' ]]\n",
    "#county= pd.concat([county, dfI['Median Household Income'], dfcma[['% Food Insecure','% Limited Access','% Insufficient Sleep','% Rural','Population']],dfca['Life Expectancy']], axis=1)\n",
    "county=dfc[['County', 'Average Daily PM2.5','Income Ratio', '% Unemployed', '% With Access' ]]\n",
    "county= pd.concat([county, dfI['Median Household Income'], dfcma[[ '% Limited Access','% Insufficient Sleep','% Rural','% African American' ,'% Asian', '% Hispanic', 'Population']],dfca['Life Expectancy']], axis=1)\n",
    "#county=dfc[['County', 'Average Daily PM2.5' ]]\n",
    "#county= pd.concat([county, dfI['Median Household Income'], dfcma[['% Insufficient Sleep','Population']],dfca['Life Expectancy']], axis=1)\n",
    "\n",
    "#dfI['Median Household Income']\n",
    "#dfca['Life Expectancy']\n"
   ]
  },
  {
   "cell_type": "code",
   "execution_count": 7,
   "metadata": {},
   "outputs": [
    {
     "data": {
      "text/html": [
       "<div>\n",
       "<style scoped>\n",
       "    .dataframe tbody tr th:only-of-type {\n",
       "        vertical-align: middle;\n",
       "    }\n",
       "\n",
       "    .dataframe tbody tr th {\n",
       "        vertical-align: top;\n",
       "    }\n",
       "\n",
       "    .dataframe thead th {\n",
       "        text-align: right;\n",
       "    }\n",
       "</style>\n",
       "<table border=\"1\" class=\"dataframe\">\n",
       "  <thead>\n",
       "    <tr style=\"text-align: right;\">\n",
       "      <th></th>\n",
       "      <th>Average Daily PM2.5</th>\n",
       "      <th>Income Ratio</th>\n",
       "      <th>% Unemployed</th>\n",
       "      <th>% With Access</th>\n",
       "      <th>Median Household Income</th>\n",
       "      <th>% Limited Access</th>\n",
       "      <th>% Insufficient Sleep</th>\n",
       "      <th>% Rural</th>\n",
       "      <th>% African American</th>\n",
       "      <th>% Asian</th>\n",
       "      <th>% Hispanic</th>\n",
       "      <th>Population</th>\n",
       "      <th>Life Expectancy</th>\n",
       "    </tr>\n",
       "  </thead>\n",
       "  <tbody>\n",
       "    <tr>\n",
       "      <th>0</th>\n",
       "      <td>11.7</td>\n",
       "      <td>4.6</td>\n",
       "      <td>3.9</td>\n",
       "      <td>69.0</td>\n",
       "      <td>58233.0</td>\n",
       "      <td>12.0</td>\n",
       "      <td>36.0</td>\n",
       "      <td>42.0</td>\n",
       "      <td>19.3</td>\n",
       "      <td>1.3</td>\n",
       "      <td>2.9</td>\n",
       "      <td>55504.0</td>\n",
       "      <td>76.3</td>\n",
       "    </tr>\n",
       "    <tr>\n",
       "      <th>1</th>\n",
       "      <td>10.3</td>\n",
       "      <td>4.5</td>\n",
       "      <td>4.0</td>\n",
       "      <td>72.0</td>\n",
       "      <td>59871.0</td>\n",
       "      <td>5.0</td>\n",
       "      <td>33.0</td>\n",
       "      <td>42.3</td>\n",
       "      <td>9.0</td>\n",
       "      <td>1.2</td>\n",
       "      <td>4.6</td>\n",
       "      <td>212628.0</td>\n",
       "      <td>78.6</td>\n",
       "    </tr>\n",
       "    <tr>\n",
       "      <th>2</th>\n",
       "      <td>11.5</td>\n",
       "      <td>5.8</td>\n",
       "      <td>5.9</td>\n",
       "      <td>54.0</td>\n",
       "      <td>35972.0</td>\n",
       "      <td>11.0</td>\n",
       "      <td>39.0</td>\n",
       "      <td>67.8</td>\n",
       "      <td>47.9</td>\n",
       "      <td>0.5</td>\n",
       "      <td>4.2</td>\n",
       "      <td>25270.0</td>\n",
       "      <td>75.8</td>\n",
       "    </tr>\n",
       "    <tr>\n",
       "      <th>3</th>\n",
       "      <td>11.2</td>\n",
       "      <td>4.3</td>\n",
       "      <td>4.4</td>\n",
       "      <td>16.0</td>\n",
       "      <td>47918.0</td>\n",
       "      <td>3.0</td>\n",
       "      <td>38.0</td>\n",
       "      <td>68.4</td>\n",
       "      <td>21.5</td>\n",
       "      <td>0.2</td>\n",
       "      <td>2.6</td>\n",
       "      <td>22668.0</td>\n",
       "      <td>73.9</td>\n",
       "    </tr>\n",
       "    <tr>\n",
       "      <th>4</th>\n",
       "      <td>11.7</td>\n",
       "      <td>4.1</td>\n",
       "      <td>4.0</td>\n",
       "      <td>23.0</td>\n",
       "      <td>52902.0</td>\n",
       "      <td>3.0</td>\n",
       "      <td>36.0</td>\n",
       "      <td>90.0</td>\n",
       "      <td>1.5</td>\n",
       "      <td>0.3</td>\n",
       "      <td>9.6</td>\n",
       "      <td>58013.0</td>\n",
       "      <td>74.6</td>\n",
       "    </tr>\n",
       "    <tr>\n",
       "      <th>...</th>\n",
       "      <td>...</td>\n",
       "      <td>...</td>\n",
       "      <td>...</td>\n",
       "      <td>...</td>\n",
       "      <td>...</td>\n",
       "      <td>...</td>\n",
       "      <td>...</td>\n",
       "      <td>...</td>\n",
       "      <td>...</td>\n",
       "      <td>...</td>\n",
       "      <td>...</td>\n",
       "      <td>...</td>\n",
       "      <td>...</td>\n",
       "    </tr>\n",
       "    <tr>\n",
       "      <th>3019</th>\n",
       "      <td>5.1</td>\n",
       "      <td>4.4</td>\n",
       "      <td>4.6</td>\n",
       "      <td>90.0</td>\n",
       "      <td>80639.0</td>\n",
       "      <td>11.0</td>\n",
       "      <td>31.0</td>\n",
       "      <td>10.9</td>\n",
       "      <td>1.1</td>\n",
       "      <td>0.8</td>\n",
       "      <td>16.2</td>\n",
       "      <td>43534.0</td>\n",
       "      <td>77.8</td>\n",
       "    </tr>\n",
       "    <tr>\n",
       "      <th>3020</th>\n",
       "      <td>4.9</td>\n",
       "      <td>3.9</td>\n",
       "      <td>3.0</td>\n",
       "      <td>100.0</td>\n",
       "      <td>98837.0</td>\n",
       "      <td>7.0</td>\n",
       "      <td>27.0</td>\n",
       "      <td>46.4</td>\n",
       "      <td>0.5</td>\n",
       "      <td>1.2</td>\n",
       "      <td>15.0</td>\n",
       "      <td>23265.0</td>\n",
       "      <td>87.4</td>\n",
       "    </tr>\n",
       "    <tr>\n",
       "      <th>3021</th>\n",
       "      <td>5.9</td>\n",
       "      <td>4.6</td>\n",
       "      <td>4.5</td>\n",
       "      <td>81.0</td>\n",
       "      <td>70756.0</td>\n",
       "      <td>10.0</td>\n",
       "      <td>31.0</td>\n",
       "      <td>43.1</td>\n",
       "      <td>0.7</td>\n",
       "      <td>0.5</td>\n",
       "      <td>9.2</td>\n",
       "      <td>20495.0</td>\n",
       "      <td>78.4</td>\n",
       "    </tr>\n",
       "    <tr>\n",
       "      <th>3022</th>\n",
       "      <td>4.8</td>\n",
       "      <td>3.6</td>\n",
       "      <td>4.1</td>\n",
       "      <td>82.0</td>\n",
       "      <td>55122.0</td>\n",
       "      <td>4.0</td>\n",
       "      <td>28.0</td>\n",
       "      <td>36.0</td>\n",
       "      <td>0.5</td>\n",
       "      <td>0.8</td>\n",
       "      <td>14.2</td>\n",
       "      <td>8064.0</td>\n",
       "      <td>80.5</td>\n",
       "    </tr>\n",
       "    <tr>\n",
       "      <th>3023</th>\n",
       "      <td>4.1</td>\n",
       "      <td>5.2</td>\n",
       "      <td>4.0</td>\n",
       "      <td>27.0</td>\n",
       "      <td>59410.0</td>\n",
       "      <td>4.0</td>\n",
       "      <td>30.0</td>\n",
       "      <td>54.5</td>\n",
       "      <td>0.6</td>\n",
       "      <td>1.2</td>\n",
       "      <td>4.2</td>\n",
       "      <td>6927.0</td>\n",
       "      <td>81.6</td>\n",
       "    </tr>\n",
       "  </tbody>\n",
       "</table>\n",
       "<p>3024 rows × 13 columns</p>\n",
       "</div>"
      ],
      "text/plain": [
       "      Average Daily PM2.5  Income Ratio  % Unemployed  % With Access  \\\n",
       "0                    11.7           4.6           3.9           69.0   \n",
       "1                    10.3           4.5           4.0           72.0   \n",
       "2                    11.5           5.8           5.9           54.0   \n",
       "3                    11.2           4.3           4.4           16.0   \n",
       "4                    11.7           4.1           4.0           23.0   \n",
       "...                   ...           ...           ...            ...   \n",
       "3019                  5.1           4.4           4.6           90.0   \n",
       "3020                  4.9           3.9           3.0          100.0   \n",
       "3021                  5.9           4.6           4.5           81.0   \n",
       "3022                  4.8           3.6           4.1           82.0   \n",
       "3023                  4.1           5.2           4.0           27.0   \n",
       "\n",
       "      Median Household Income  % Limited Access  % Insufficient Sleep  \\\n",
       "0                     58233.0              12.0                  36.0   \n",
       "1                     59871.0               5.0                  33.0   \n",
       "2                     35972.0              11.0                  39.0   \n",
       "3                     47918.0               3.0                  38.0   \n",
       "4                     52902.0               3.0                  36.0   \n",
       "...                       ...               ...                   ...   \n",
       "3019                  80639.0              11.0                  31.0   \n",
       "3020                  98837.0               7.0                  27.0   \n",
       "3021                  70756.0              10.0                  31.0   \n",
       "3022                  55122.0               4.0                  28.0   \n",
       "3023                  59410.0               4.0                  30.0   \n",
       "\n",
       "      % Rural  % African American  % Asian  % Hispanic  Population  \\\n",
       "0        42.0                19.3      1.3         2.9     55504.0   \n",
       "1        42.3                 9.0      1.2         4.6    212628.0   \n",
       "2        67.8                47.9      0.5         4.2     25270.0   \n",
       "3        68.4                21.5      0.2         2.6     22668.0   \n",
       "4        90.0                 1.5      0.3         9.6     58013.0   \n",
       "...       ...                 ...      ...         ...         ...   \n",
       "3019     10.9                 1.1      0.8        16.2     43534.0   \n",
       "3020     46.4                 0.5      1.2        15.0     23265.0   \n",
       "3021     43.1                 0.7      0.5         9.2     20495.0   \n",
       "3022     36.0                 0.5      0.8        14.2      8064.0   \n",
       "3023     54.5                 0.6      1.2         4.2      6927.0   \n",
       "\n",
       "      Life Expectancy  \n",
       "0                76.3  \n",
       "1                78.6  \n",
       "2                75.8  \n",
       "3                73.9  \n",
       "4                74.6  \n",
       "...               ...  \n",
       "3019             77.8  \n",
       "3020             87.4  \n",
       "3021             78.4  \n",
       "3022             80.5  \n",
       "3023             81.6  \n",
       "\n",
       "[3024 rows x 13 columns]"
      ]
     },
     "execution_count": 7,
     "metadata": {},
     "output_type": "execute_result"
    }
   ],
   "source": [
    "county=county.dropna(axis=0).reset_index(drop=True)\n",
    "countyNew=county.drop(['County'],axis=1)\n",
    "countyNew=countyNew.astype(float)\n",
    "countyNew"
   ]
  },
  {
   "cell_type": "code",
   "execution_count": 8,
   "metadata": {},
   "outputs": [
    {
     "data": {
      "image/png": "[encoded data removed]",
      "text/plain": [
       "<Figure size 432x288 with 2 Axes>"
      ]
     },
     "metadata": {
      "needs_background": "light"
     },
     "output_type": "display_data"
    }
   ],
   "source": [
    "corrMatrix = countyNew.corr()\n",
    "hm=sn.heatmap(corrMatrix, annot=True, xticklabels=True, yticklabels=True, cmap='coolwarm', linecolor='white', linewidths=1)\n",
    "figure = hm.get_figure()    \n",
    "figure.savefig('svm_conf.png',dpi=600)\n"
   ]
  },
  {
   "cell_type": "code",
   "execution_count": 9,
   "metadata": {},
   "outputs": [
    {
     "data": {
      "text/plain": [
       "27052.5"
      ]
     },
     "execution_count": 9,
     "metadata": {},
     "output_type": "execute_result"
    }
   ],
   "source": [
    "countyNew=shuffle(countyNew)\n",
    "countyNew['Population'].median()"
   ]
  },
  {
   "cell_type": "code",
   "execution_count": 10,
   "metadata": {},
   "outputs": [
    {
     "data": {
      "text/html": [
       "<div>\n",
       "<style scoped>\n",
       "    .dataframe tbody tr th:only-of-type {\n",
       "        vertical-align: middle;\n",
       "    }\n",
       "\n",
       "    .dataframe tbody tr th {\n",
       "        vertical-align: top;\n",
       "    }\n",
       "\n",
       "    .dataframe thead th {\n",
       "        text-align: right;\n",
       "    }\n",
       "</style>\n",
       "<table border=\"1\" class=\"dataframe\">\n",
       "  <thead>\n",
       "    <tr style=\"text-align: right;\">\n",
       "      <th></th>\n",
       "      <th>Average Daily PM2.5</th>\n",
       "      <th>Income Ratio</th>\n",
       "      <th>% Unemployed</th>\n",
       "      <th>% With Access</th>\n",
       "      <th>Median Household Income</th>\n",
       "      <th>% Limited Access</th>\n",
       "      <th>% Insufficient Sleep</th>\n",
       "      <th>% Rural</th>\n",
       "      <th>% African American</th>\n",
       "      <th>% Asian</th>\n",
       "      <th>% Hispanic</th>\n",
       "      <th>Population</th>\n",
       "      <th>Life Expectancy</th>\n",
       "    </tr>\n",
       "  </thead>\n",
       "  <tbody>\n",
       "    <tr>\n",
       "      <th>423</th>\n",
       "      <td>11.3</td>\n",
       "      <td>4.5</td>\n",
       "      <td>4.3</td>\n",
       "      <td>32.0</td>\n",
       "      <td>74052.0</td>\n",
       "      <td>0.0</td>\n",
       "      <td>34.0</td>\n",
       "      <td>96.7</td>\n",
       "      <td>16.5</td>\n",
       "      <td>1.1</td>\n",
       "      <td>3.7</td>\n",
       "      <td>33915.0</td>\n",
       "      <td>80.1</td>\n",
       "    </tr>\n",
       "    <tr>\n",
       "      <th>1735</th>\n",
       "      <td>6.7</td>\n",
       "      <td>4.5</td>\n",
       "      <td>6.1</td>\n",
       "      <td>54.0</td>\n",
       "      <td>43135.0</td>\n",
       "      <td>15.0</td>\n",
       "      <td>34.0</td>\n",
       "      <td>29.6</td>\n",
       "      <td>3.4</td>\n",
       "      <td>1.5</td>\n",
       "      <td>38.4</td>\n",
       "      <td>65817.0</td>\n",
       "      <td>77.7</td>\n",
       "    </tr>\n",
       "    <tr>\n",
       "      <th>1342</th>\n",
       "      <td>7.5</td>\n",
       "      <td>4.1</td>\n",
       "      <td>4.4</td>\n",
       "      <td>74.0</td>\n",
       "      <td>57290.0</td>\n",
       "      <td>1.0</td>\n",
       "      <td>31.0</td>\n",
       "      <td>59.1</td>\n",
       "      <td>0.7</td>\n",
       "      <td>1.3</td>\n",
       "      <td>24.8</td>\n",
       "      <td>10840.0</td>\n",
       "      <td>80.1</td>\n",
       "    </tr>\n",
       "    <tr>\n",
       "      <th>2657</th>\n",
       "      <td>8.8</td>\n",
       "      <td>6.6</td>\n",
       "      <td>11.0</td>\n",
       "      <td>34.0</td>\n",
       "      <td>35821.0</td>\n",
       "      <td>9.0</td>\n",
       "      <td>36.0</td>\n",
       "      <td>34.6</td>\n",
       "      <td>1.9</td>\n",
       "      <td>0.9</td>\n",
       "      <td>88.3</td>\n",
       "      <td>21584.0</td>\n",
       "      <td>78.4</td>\n",
       "    </tr>\n",
       "    <tr>\n",
       "      <th>1221</th>\n",
       "      <td>7.5</td>\n",
       "      <td>3.7</td>\n",
       "      <td>4.9</td>\n",
       "      <td>54.0</td>\n",
       "      <td>72888.0</td>\n",
       "      <td>1.0</td>\n",
       "      <td>30.0</td>\n",
       "      <td>91.3</td>\n",
       "      <td>0.6</td>\n",
       "      <td>0.6</td>\n",
       "      <td>4.4</td>\n",
       "      <td>21657.0</td>\n",
       "      <td>83.5</td>\n",
       "    </tr>\n",
       "    <tr>\n",
       "      <th>...</th>\n",
       "      <td>...</td>\n",
       "      <td>...</td>\n",
       "      <td>...</td>\n",
       "      <td>...</td>\n",
       "      <td>...</td>\n",
       "      <td>...</td>\n",
       "      <td>...</td>\n",
       "      <td>...</td>\n",
       "      <td>...</td>\n",
       "      <td>...</td>\n",
       "      <td>...</td>\n",
       "      <td>...</td>\n",
       "      <td>...</td>\n",
       "    </tr>\n",
       "    <tr>\n",
       "      <th>2059</th>\n",
       "      <td>5.6</td>\n",
       "      <td>3.9</td>\n",
       "      <td>2.4</td>\n",
       "      <td>36.0</td>\n",
       "      <td>47602.0</td>\n",
       "      <td>15.0</td>\n",
       "      <td>31.0</td>\n",
       "      <td>100.0</td>\n",
       "      <td>0.5</td>\n",
       "      <td>0.4</td>\n",
       "      <td>22.0</td>\n",
       "      <td>2154.0</td>\n",
       "      <td>75.9</td>\n",
       "    </tr>\n",
       "    <tr>\n",
       "      <th>1792</th>\n",
       "      <td>9.7</td>\n",
       "      <td>5.4</td>\n",
       "      <td>4.4</td>\n",
       "      <td>95.0</td>\n",
       "      <td>99831.0</td>\n",
       "      <td>3.0</td>\n",
       "      <td>35.0</td>\n",
       "      <td>0.7</td>\n",
       "      <td>11.5</td>\n",
       "      <td>6.5</td>\n",
       "      <td>18.0</td>\n",
       "      <td>328868.0</td>\n",
       "      <td>83.3</td>\n",
       "    </tr>\n",
       "    <tr>\n",
       "      <th>1750</th>\n",
       "      <td>8.5</td>\n",
       "      <td>4.1</td>\n",
       "      <td>6.7</td>\n",
       "      <td>57.0</td>\n",
       "      <td>49411.0</td>\n",
       "      <td>3.0</td>\n",
       "      <td>36.0</td>\n",
       "      <td>78.7</td>\n",
       "      <td>1.3</td>\n",
       "      <td>1.3</td>\n",
       "      <td>1.6</td>\n",
       "      <td>46894.0</td>\n",
       "      <td>78.5</td>\n",
       "    </tr>\n",
       "    <tr>\n",
       "      <th>1997</th>\n",
       "      <td>11.2</td>\n",
       "      <td>4.0</td>\n",
       "      <td>6.5</td>\n",
       "      <td>70.0</td>\n",
       "      <td>56704.0</td>\n",
       "      <td>4.0</td>\n",
       "      <td>38.0</td>\n",
       "      <td>50.3</td>\n",
       "      <td>1.2</td>\n",
       "      <td>0.4</td>\n",
       "      <td>6.6</td>\n",
       "      <td>58494.0</td>\n",
       "      <td>76.9</td>\n",
       "    </tr>\n",
       "    <tr>\n",
       "      <th>285</th>\n",
       "      <td>8.3</td>\n",
       "      <td>6.1</td>\n",
       "      <td>3.7</td>\n",
       "      <td>86.0</td>\n",
       "      <td>49880.0</td>\n",
       "      <td>6.0</td>\n",
       "      <td>36.0</td>\n",
       "      <td>21.2</td>\n",
       "      <td>20.0</td>\n",
       "      <td>6.1</td>\n",
       "      <td>9.8</td>\n",
       "      <td>266944.0</td>\n",
       "      <td>79.2</td>\n",
       "    </tr>\n",
       "  </tbody>\n",
       "</table>\n",
       "<p>2419 rows × 13 columns</p>\n",
       "</div>"
      ],
      "text/plain": [
       "      Average Daily PM2.5  Income Ratio  % Unemployed  % With Access  \\\n",
       "423                  11.3           4.5           4.3           32.0   \n",
       "1735                  6.7           4.5           6.1           54.0   \n",
       "1342                  7.5           4.1           4.4           74.0   \n",
       "2657                  8.8           6.6          11.0           34.0   \n",
       "1221                  7.5           3.7           4.9           54.0   \n",
       "...                   ...           ...           ...            ...   \n",
       "2059                  5.6           3.9           2.4           36.0   \n",
       "1792                  9.7           5.4           4.4           95.0   \n",
       "1750                  8.5           4.1           6.7           57.0   \n",
       "1997                 11.2           4.0           6.5           70.0   \n",
       "285                   8.3           6.1           3.7           86.0   \n",
       "\n",
       "      Median Household Income  % Limited Access  % Insufficient Sleep  \\\n",
       "423                   74052.0               0.0                  34.0   \n",
       "1735                  43135.0              15.0                  34.0   \n",
       "1342                  57290.0               1.0                  31.0   \n",
       "2657                  35821.0               9.0                  36.0   \n",
       "1221                  72888.0               1.0                  30.0   \n",
       "...                       ...               ...                   ...   \n",
       "2059                  47602.0              15.0                  31.0   \n",
       "1792                  99831.0               3.0                  35.0   \n",
       "1750                  49411.0               3.0                  36.0   \n",
       "1997                  56704.0               4.0                  38.0   \n",
       "285                   49880.0               6.0                  36.0   \n",
       "\n",
       "      % Rural  % African American  % Asian  % Hispanic  Population  \\\n",
       "423      96.7                16.5      1.1         3.7     33915.0   \n",
       "1735     29.6                 3.4      1.5        38.4     65817.0   \n",
       "1342     59.1                 0.7      1.3        24.8     10840.0   \n",
       "2657     34.6                 1.9      0.9        88.3     21584.0   \n",
       "1221     91.3                 0.6      0.6         4.4     21657.0   \n",
       "...       ...                 ...      ...         ...         ...   \n",
       "2059    100.0                 0.5      0.4        22.0      2154.0   \n",
       "1792      0.7                11.5      6.5        18.0    328868.0   \n",
       "1750     78.7                 1.3      1.3         1.6     46894.0   \n",
       "1997     50.3                 1.2      0.4         6.6     58494.0   \n",
       "285      21.2                20.0      6.1         9.8    266944.0   \n",
       "\n",
       "      Life Expectancy  \n",
       "423              80.1  \n",
       "1735             77.7  \n",
       "1342             80.1  \n",
       "2657             78.4  \n",
       "1221             83.5  \n",
       "...               ...  \n",
       "2059             75.9  \n",
       "1792             83.3  \n",
       "1750             78.5  \n",
       "1997             76.9  \n",
       "285              79.2  \n",
       "\n",
       "[2419 rows x 13 columns]"
      ]
     },
     "execution_count": 10,
     "metadata": {},
     "output_type": "execute_result"
    }
   ],
   "source": [
    "fullSet=countyNew\n",
    "trainingSet=countyNew.sample(frac=.8)\n",
    "part_40=countyNew.drop(trainingSet.index)\n",
    "validationSet=part_40.sample(frac=.5)\n",
    "testSet=part_40.drop(validationSet.index)\n",
    "trainingSet"
   ]
  },
  {
   "cell_type": "code",
   "execution_count": 11,
   "metadata": {},
   "outputs": [],
   "source": [
    "scalerA = preprocessing.StandardScaler()\n",
    "scalerB=preprocessing.StandardScaler()"
   ]
  },
  {
   "cell_type": "code",
   "execution_count": 12,
   "metadata": {},
   "outputs": [
    {
     "name": "stdout",
     "output_type": "stream",
     "text": [
      "[9.08131614e+00 4.52364418e+00 4.59656085e+00 6.34884259e+01\n",
      " 5.55946825e+04 8.05059524e+00 3.31286376e+01 5.74864749e+01\n",
      " 9.19474206e+00 1.46200397e+00 9.49232804e+00 1.06822289e+05] \n",
      " [77.44398148] \n",
      "\n"
     ]
    },
    {
     "data": {
      "text/plain": [
       "array([[ 1.1509135 , -0.03222088, -0.19045673, ..., -0.14527885,\n",
       "        -0.4188941 , -0.21539134],\n",
       "       [-1.23527689, -0.03222088,  0.96553575, ...,  0.01524851,\n",
       "         2.09056757, -0.12114267],\n",
       "       [-0.82028726, -0.57731698, -0.12623492, ..., -0.06501517,\n",
       "         1.10703216, -0.28356223],\n",
       "       ...,\n",
       "       [-0.30155021, -0.57731698,  1.35086657, ..., -0.06501517,\n",
       "        -0.57076353, -0.17704724],\n",
       "       [ 1.0990398 , -0.71359101,  1.22242296, ..., -0.42620174,\n",
       "        -0.20916964, -0.14277715],\n",
       "       [-0.40529762,  2.14816355, -0.57578755, ...,  1.86131316,\n",
       "         0.02225046,  0.4730505 ]])"
      ]
     },
     "execution_count": 12,
     "metadata": {},
     "output_type": "execute_result"
    }
   ],
   "source": [
    "lengthTrain=len(trainingSet.index)\n",
    "xtrain=np.ones((lengthTrain,len(trainingSet.columns)))\n",
    "#put training set feature data into xtrain and make it normalized using min max scaler\n",
    "xstats=scalerA.fit(fullSet[fullSet.columns[0:-1]].values.astype(float)) \n",
    "xtrain=scalerA.transform(trainingSet[trainingSet.columns[0:-1]].values.astype(float)) \n",
    "\n",
    "#we normalize life expectancy\n",
    "ystats=scalerB.fit(fullSet[['Life Expectancy']].values.astype(float))\n",
    "ytrain=scalerB.transform(trainingSet[['Life Expectancy']].values.astype(float))\n",
    "print(scalerA.mean_, '\\n',scalerB.mean_,'\\n')\n",
    "xtrain"
   ]
  },
  {
   "cell_type": "code",
   "execution_count": 13,
   "metadata": {},
   "outputs": [
    {
     "data": {
      "text/plain": [
       "array([[ 0.58030276,  0.51287523, -0.12623492, ..., -0.10514701,\n",
       "        -0.02837269, -0.12699813],\n",
       "       [-0.97590837, -1.25868711, -0.64000935, ..., -0.34593806,\n",
       "        -0.02114081, -0.27165928],\n",
       "       [ 0.73592387, -0.03222088,  0.38753951, ..., -0.06501517,\n",
       "         0.70204699, -0.13705759],\n",
       "       ...,\n",
       "       [ 0.37280794,  1.19424536,  2.18575003, ..., -0.3860699 ,\n",
       "        -0.59245917, -0.23983537],\n",
       "       [ 0.26906053,  2.4207116 ,  2.44263724, ..., -0.50646542,\n",
       "        -0.62861856, -0.29617717],\n",
       "       [ 0.11343942,  0.24032718, -0.83267477, ..., -0.42620174,\n",
       "        -0.54183602, -0.29204408]])"
      ]
     },
     "execution_count": 13,
     "metadata": {},
     "output_type": "execute_result"
    }
   ],
   "source": [
    "xval=np.ones((len(validationSet.index),len(validationSet.columns)))\n",
    "\n",
    "xval=scalerA.transform(validationSet[validationSet.columns[0:-1]].values.astype(float)) \n",
    "\n",
    "yval=scalerB.transform(validationSet[['Life Expectancy']].values.astype(float))\n",
    "xval"
   ]
  },
  {
   "cell_type": "code",
   "execution_count": 14,
   "metadata": {},
   "outputs": [
    {
     "data": {
      "text/plain": [
       "array([[ 0.89154498, -0.98613906, -1.21800559, ..., -0.34593806,\n",
       "        -0.51290851, -0.25879027],\n",
       "       [-0.24967651,  0.24032718, -0.44734394, ..., -0.50646542,\n",
       "        -0.53460414, -0.2633222 ],\n",
       "       [ 0.00969201, -0.1684949 ,  1.60775379, ..., -0.42620174,\n",
       "        -0.62861856, -0.24160205],\n",
       "       ...,\n",
       "       [ 0.63217646,  0.10405315,  0.38753951, ..., -0.14527885,\n",
       "        -0.56353166,  0.29683723],\n",
       "       [ 0.06156572, -0.03222088, -0.06201312, ..., -0.50646542,\n",
       "        -0.45505349, -0.3062898 ],\n",
       "       [ 0.11343942, -1.53123517, -0.64000935, ...,  0.13564403,\n",
       "        -0.39719846, -0.04526101]])"
      ]
     },
     "execution_count": 14,
     "metadata": {},
     "output_type": "execute_result"
    }
   ],
   "source": [
    "xtest=np.ones((len(testSet.index),len(testSet.columns)))\n",
    "\n",
    "xtest=scalerA.transform(testSet[testSet.columns[0:-1]].values.astype(float)) \n",
    "\n",
    "ytest=scalerB.transform(testSet[['Life Expectancy']].values.astype(float))\n",
    "xtest"
   ]
  },
  {
   "cell_type": "code",
   "execution_count": 15,
   "metadata": {},
   "outputs": [],
   "source": [
    "def within_range_percent(ypred,yreal):\n",
    "    return np.count_nonzero(abs(ypred-yreal)<1.5)/len(ypred)"
   ]
  },
  {
   "cell_type": "code",
   "execution_count": 16,
   "metadata": {},
   "outputs": [
    {
     "name": "stdout",
     "output_type": "stream",
     "text": [
      "0.5520734721531262 \n",
      "\n"
     ]
    }
   ],
   "source": [
    "#LIN REG 1\n",
    "\n",
    "reg=LinearRegression().fit(xtrain,ytrain)\n",
    "r2=reg.score(xtrain,ytrain)\n",
    "print(r2,'\\n')\n"
   ]
  },
  {
   "cell_type": "code",
   "execution_count": 17,
   "metadata": {},
   "outputs": [
    {
     "name": "stdout",
     "output_type": "stream",
     "text": [
      "0.6432410086812732 \n",
      "\n"
     ]
    },
    {
     "data": {
      "image/png": "[encoded data removed]",
      "text/plain": [
       "<Figure size 432x288 with 1 Axes>"
      ]
     },
     "metadata": {
      "needs_background": "light"
     },
     "output_type": "display_data"
    }
   ],
   "source": [
    "ynewreal=scalerB.inverse_transform(ytrain)\n",
    "ynewpred=scalerB.inverse_transform(reg.predict(xtrain))\n",
    "\n",
    "print(within_range_percent(ynewreal,ynewpred),'\\n')\n",
    "plt.plot(ynewreal,ynewpred,'o')\n",
    "plt.xlabel('True Life Expectancy (years)')\n",
    "plt.ylabel('Predicted Life Expectancy (Years)')\n",
    "plt.title('True vs Predicted LE- Lin Reg Train')\n",
    "plt.savefig('LinearRegTrain.png')"
   ]
  },
  {
   "cell_type": "code",
   "execution_count": 18,
   "metadata": {
    "scrolled": true
   },
   "outputs": [
    {
     "name": "stdout",
     "output_type": "stream",
     "text": [
      "0.5672533593836979 \n",
      "\n",
      "0.6225165562913907 \n",
      "\n"
     ]
    },
    {
     "data": {
      "image/png": "[encoded data removed]",
      "text/plain": [
       "<Figure size 432x288 with 1 Axes>"
      ]
     },
     "metadata": {
      "needs_background": "light"
     },
     "output_type": "display_data"
    }
   ],
   "source": [
    "r2=reg.score(xval,yval)\n",
    "print(r2,'\\n')\n",
    "\n",
    "ynewreal=scalerB.inverse_transform(yval)\n",
    "ynewpred=scalerB.inverse_transform(reg.predict(xval))\n",
    "\n",
    "print(within_range_percent(ynewreal,ynewpred),'\\n')\n",
    "\n",
    "plt.plot(ynewreal,ynewpred,'o')\n",
    "plt.xlabel('True Life Expectancy (years)')\n",
    "plt.ylabel('Predicted Life Expectancy (Years)')\n",
    "plt.title('True vs Predicted LE- Lin Reg Val')\n",
    "plt.savefig('LinearRegVal.png')"
   ]
  },
  {
   "cell_type": "code",
   "execution_count": null,
   "metadata": {},
   "outputs": [],
   "source": []
  },
  {
   "cell_type": "code",
   "execution_count": 19,
   "metadata": {},
   "outputs": [
    {
     "name": "stdout",
     "output_type": "stream",
     "text": [
      "0.6384716085995408 \n",
      "\n",
      "0.6808598594460521 \n",
      "\n"
     ]
    },
    {
     "data": {
      "image/png": "[encoded data removed]",
      "text/plain": [
       "<Figure size 432x288 with 1 Axes>"
      ]
     },
     "metadata": {
      "needs_background": "light"
     },
     "output_type": "display_data"
    }
   ],
   "source": [
    "#LIN REG 2\n",
    "poly = PolynomialFeatures(2)\n",
    "model=LinearRegression()\n",
    "xtrainpoly=poly.fit_transform(xtrain)\n",
    "regB=model.fit(xtrainpoly,ytrain)\n",
    "\n",
    "r2=regB.score(xtrainpoly,ytrain)\n",
    "print(r2,'\\n')\n",
    "\n",
    "ynewreal=scalerB.inverse_transform(ytrain)\n",
    "ynewpred=scalerB.inverse_transform(regB.predict(xtrainpoly))\n",
    "\n",
    "print(within_range_percent(ynewreal,ynewpred),'\\n')\n",
    "\n",
    "plt.plot(ynewreal,ynewpred,'o')\n",
    "plt.xlabel('True Life Expectancy (years)')\n",
    "plt.ylabel('Predicted Life Expectancy (Years)')\n",
    "plt.title('True vs Predicted LE- Poly Reg Train')\n",
    "plt.savefig('PolyRegTrain.png')"
   ]
  },
  {
   "cell_type": "code",
   "execution_count": null,
   "metadata": {},
   "outputs": [],
   "source": []
  },
  {
   "cell_type": "code",
   "execution_count": 20,
   "metadata": {},
   "outputs": [
    {
     "name": "stdout",
     "output_type": "stream",
     "text": [
      "0.601609969954948 \n",
      "\n",
      "0.6456953642384106 \n",
      "\n"
     ]
    },
    {
     "data": {
      "image/png": "[encoded data removed]",
      "text/plain": [
       "<Figure size 432x288 with 1 Axes>"
      ]
     },
     "metadata": {
      "needs_background": "light"
     },
     "output_type": "display_data"
    }
   ],
   "source": [
    "poly = PolynomialFeatures(2)\n",
    "xvalpoly=poly.fit_transform(xval)\n",
    "r2=regB.score(xvalpoly,yval)\n",
    "print(r2,'\\n')\n",
    "\n",
    "ynewreal=scalerB.inverse_transform(yval)\n",
    "ynewpred=scalerB.inverse_transform(regB.predict(xvalpoly))\n",
    "\n",
    "print(within_range_percent(ynewreal,ynewpred),'\\n')\n",
    "\n",
    "\n",
    "plt.plot(ynewreal,ynewpred,'o')\n",
    "plt.xlabel('True Life Expectancy (years)')\n",
    "plt.ylabel('Predicted Life Expectancy (Years)')\n",
    "plt.title('True vs Predicted LE- Poly Reg Val')\n",
    "plt.savefig('PolyRegVal.png')\n"
   ]
  },
  {
   "cell_type": "code",
   "execution_count": null,
   "metadata": {},
   "outputs": [],
   "source": []
  },
  {
   "cell_type": "code",
   "execution_count": 21,
   "metadata": {},
   "outputs": [
    {
     "name": "stdout",
     "output_type": "stream",
     "text": [
      "0.7416424003677042 \n",
      "\n",
      "0.7420421661843737 \n",
      "\n"
     ]
    }
   ],
   "source": [
    "#LIN REG 3\n",
    "poly = PolynomialFeatures(3)\n",
    "model=LinearRegression()\n",
    "xtrainpoly=poly.fit_transform(xtrain)\n",
    "regB=model.fit(xtrainpoly,ytrain)\n",
    "\n",
    "\n",
    "r2=regB.score(xtrainpoly,ytrain)\n",
    "print(r2,'\\n')\n",
    "\n",
    "ynewreal=scalerB.inverse_transform(ytrain)\n",
    "ynewpred=scalerB.inverse_transform(regB.predict(xtrainpoly))\n",
    "\n",
    "print(within_range_percent(ynewreal,ynewpred),'\\n')\n"
   ]
  },
  {
   "cell_type": "code",
   "execution_count": 22,
   "metadata": {},
   "outputs": [
    {
     "name": "stdout",
     "output_type": "stream",
     "text": [
      "0.04823679711046691 \n",
      "\n",
      "0.5993377483443708 \n",
      "\n"
     ]
    }
   ],
   "source": [
    "poly = PolynomialFeatures(3)\n",
    "xvalpoly=poly.fit_transform(xval)\n",
    "regB.score(xvalpoly,yval)\n",
    "\n",
    "r2=regB.score(xvalpoly,yval)\n",
    "print(r2,'\\n')\n",
    "\n",
    "ynewreal=scalerB.inverse_transform(yval)\n",
    "ynewpred=scalerB.inverse_transform(regB.predict(xvalpoly))\n",
    "\n",
    "print(within_range_percent(ynewreal,ynewpred),'\\n')"
   ]
  },
  {
   "cell_type": "code",
   "execution_count": 23,
   "metadata": {},
   "outputs": [
    {
     "name": "stdout",
     "output_type": "stream",
     "text": [
      "0.9389029123624955 \n",
      "\n",
      "0.9433650268706076 \n",
      "\n"
     ]
    }
   ],
   "source": [
    "#LIN REG 4\n",
    "poly = PolynomialFeatures(4)\n",
    "model=LinearRegression()\n",
    "xtrainpoly=poly.fit_transform(xtrain)\n",
    "regB=model.fit(xtrainpoly,ytrain)\n",
    "regB.score(xtrainpoly,ytrain)\n",
    "\n",
    "\n",
    "r2=regB.score(xtrainpoly,ytrain)\n",
    "print(r2,'\\n')\n",
    "\n",
    "ynewreal=scalerB.inverse_transform(ytrain)\n",
    "ynewpred=scalerB.inverse_transform(regB.predict(xtrainpoly))\n",
    "\n",
    "print(within_range_percent(ynewreal,ynewpred),'\\n')"
   ]
  },
  {
   "cell_type": "code",
   "execution_count": 24,
   "metadata": {},
   "outputs": [
    {
     "name": "stdout",
     "output_type": "stream",
     "text": [
      "-1751.4889362076199 \n",
      "\n",
      "0.3211920529801324 \n",
      "\n"
     ]
    }
   ],
   "source": [
    "poly = PolynomialFeatures(4)\n",
    "xvalpoly=poly.fit_transform(xval)\n",
    "regB.score(xvalpoly,yval)\n",
    "\n",
    "r2=regB.score(xvalpoly,yval)\n",
    "print(r2,'\\n')\n",
    "\n",
    "ynewreal=scalerB.inverse_transform(yval)\n",
    "ynewpred=scalerB.inverse_transform(regB.predict(xvalpoly))\n",
    "\n",
    "print(within_range_percent(ynewreal,ynewpred),'\\n')"
   ]
  },
  {
   "cell_type": "code",
   "execution_count": 25,
   "metadata": {},
   "outputs": [],
   "source": [
    "#RIDGE REG 1\n",
    "model=RidgeCV(alphas=[.1,.4,.2,.25,.05,.5,1,.15,.08,2])\n",
    "model.n_iter=10^5\n",
    "clf = model.fit(xtrain, ytrain)\n",
    "\n"
   ]
  },
  {
   "cell_type": "code",
   "execution_count": 26,
   "metadata": {},
   "outputs": [
    {
     "name": "stdout",
     "output_type": "stream",
     "text": [
      "0.5520731478473042 \n",
      "\n",
      "0.6432410086812732 \n",
      "\n"
     ]
    }
   ],
   "source": [
    "r2=clf.score(xtrain,ytrain)\n",
    "print(r2,'\\n')\n",
    "\n",
    "ynewreal=scalerB.inverse_transform(ytrain)\n",
    "ynewpred=scalerB.inverse_transform(clf.predict(xtrain))\n",
    "\n",
    "print(within_range_percent(ynewreal,ynewpred),'\\n')"
   ]
  },
  {
   "cell_type": "code",
   "execution_count": 27,
   "metadata": {},
   "outputs": [
    {
     "name": "stdout",
     "output_type": "stream",
     "text": [
      "0.5671648519169954 \n",
      "\n",
      "0.6192052980132451 \n",
      "\n"
     ]
    }
   ],
   "source": [
    "r2=clf.score(xval,yval)\n",
    "print(r2,'\\n')\n",
    "\n",
    "ynewreal=scalerB.inverse_transform(yval)\n",
    "ynewpred=scalerB.inverse_transform(clf.predict(xval))\n",
    "\n",
    "print(within_range_percent(ynewreal,ynewpred),'\\n')"
   ]
  },
  {
   "cell_type": "code",
   "execution_count": 28,
   "metadata": {},
   "outputs": [
    {
     "name": "stdout",
     "output_type": "stream",
     "text": [
      "0.638460044431732 \n",
      "\n",
      "0.6800330715171559 \n",
      "\n"
     ]
    }
   ],
   "source": [
    "#RIDGE REG 2\n",
    "model=RidgeCV(alphas=[.1,.4,.2,.25,.05,.5,1,.15,.08,2])\n",
    "model.n_iter=10^5\n",
    "poly = PolynomialFeatures(2)\n",
    "xtrainpoly=poly.fit_transform(xtrain)\n",
    "regB=model.fit(xtrainpoly,ytrain)\n",
    "r2=regB.score(xtrainpoly,ytrain)\n",
    "print(r2,'\\n')\n",
    "\n",
    "ynewreal=scalerB.inverse_transform(ytrain)\n",
    "ynewpred=scalerB.inverse_transform(regB.predict(xtrainpoly))\n",
    "\n",
    "print(within_range_percent(ynewreal,ynewpred),'\\n')"
   ]
  },
  {
   "cell_type": "code",
   "execution_count": 29,
   "metadata": {},
   "outputs": [
    {
     "name": "stdout",
     "output_type": "stream",
     "text": [
      "0.6020015549651809 \n",
      "\n",
      "0.6456953642384106 \n",
      "\n"
     ]
    }
   ],
   "source": [
    "poly = PolynomialFeatures(2)\n",
    "xvalpoly=poly.fit_transform(xval)\n",
    "r2=regB.score(xvalpoly,yval)\n",
    "print(r2,'\\n')\n",
    "\n",
    "ynewreal=scalerB.inverse_transform(yval)\n",
    "ynewpred=scalerB.inverse_transform(regB.predict(xvalpoly))\n",
    "\n",
    "print(within_range_percent(ynewreal,ynewpred),'\\n')"
   ]
  },
  {
   "cell_type": "code",
   "execution_count": 30,
   "metadata": {},
   "outputs": [
    {
     "name": "stdout",
     "output_type": "stream",
     "text": [
      "0.7416356826963408 \n",
      "\n",
      "0.7416287722199256 \n",
      "\n"
     ]
    }
   ],
   "source": [
    "model=RidgeCV(alphas=[.1,.4,.2,.25,.05,.5,1,.15,.08,2,3.1,3.3,3.5,3.7,3.8,4,4.1])\n",
    "model.n_iter=10^8\n",
    "poly = PolynomialFeatures(3)\n",
    "xtrainpoly=poly.fit_transform(xtrain)\n",
    "regB=model.fit(xtrainpoly,ytrain)\n",
    "\n",
    "regB=model.fit(xtrainpoly,ytrain)\n",
    "r2=regB.score(xtrainpoly,ytrain)\n",
    "print(r2,'\\n')\n",
    "\n",
    "ynewreal=scalerB.inverse_transform(ytrain)\n",
    "ynewpred=scalerB.inverse_transform(regB.predict(xtrainpoly))\n",
    "\n",
    "print(within_range_percent(ynewreal,ynewpred),'\\n')"
   ]
  },
  {
   "cell_type": "code",
   "execution_count": 31,
   "metadata": {},
   "outputs": [
    {
     "name": "stdout",
     "output_type": "stream",
     "text": [
      "0.05191280544706689 \n",
      "\n",
      "0.5993377483443708 \n",
      "\n"
     ]
    }
   ],
   "source": [
    "poly = PolynomialFeatures(3)\n",
    "xvalpoly=poly.fit_transform(xval)\n",
    "r2=regB.score(xvalpoly,yval)\n",
    "print(r2,'\\n')\n",
    "\n",
    "ynewreal=scalerB.inverse_transform(yval)\n",
    "ynewpred=scalerB.inverse_transform(regB.predict(xvalpoly))\n",
    "\n",
    "print(within_range_percent(ynewreal,ynewpred),'\\n')"
   ]
  },
  {
   "cell_type": "code",
   "execution_count": 32,
   "metadata": {},
   "outputs": [],
   "source": [
    "model=RidgeCV(alphas=[.8,1,1.2,1.4,2,3,4,4.5,5,5.7,5.8,7])\n",
    "model.n_iter=10^8\n",
    "poly = PolynomialFeatures(4)\n",
    "xtrainpoly=poly.fit_transform(xtrain)\n",
    "regB=model.fit(xtrainpoly,ytrain)\n",
    "\n"
   ]
  },
  {
   "cell_type": "code",
   "execution_count": 33,
   "metadata": {},
   "outputs": [],
   "source": [
    "poly = PolynomialFeatures(4)\n",
    "xvalpoly=poly.fit_transform(xval)\n"
   ]
  },
  {
   "cell_type": "code",
   "execution_count": 34,
   "metadata": {},
   "outputs": [
    {
     "name": "stdout",
     "output_type": "stream",
     "text": [
      "0.8533768676012152 \n",
      "\n",
      "0.8354692021496486 \n",
      "\n"
     ]
    },
    {
     "data": {
      "image/png": "[encoded data removed]",
      "text/plain": [
       "<Figure size 432x288 with 1 Axes>"
      ]
     },
     "metadata": {
      "needs_background": "light"
     },
     "output_type": "display_data"
    }
   ],
   "source": [
    "clfB= RandomForestRegressor(n_estimators=100, max_depth=10, random_state=0)\n",
    "clfB.fit(xtrain,ytrain.ravel())\n",
    "r2=clfB.score(xtrain,ytrain)\n",
    "print(r2,'\\n')\n",
    "\n",
    "ynewreal=scalerB.inverse_transform(ytrain)\n",
    "ynewpred=scalerB.inverse_transform(clfB.predict(xtrain))\n",
    "\n",
    "print(within_range_percent(ynewreal.ravel(),np.transpose(ynewpred)),'\\n')\n",
    "\n",
    "plt.plot(ynewreal,ynewpred,'o')\n",
    "plt.xlabel('True Life Expectancy (years)')\n",
    "plt.ylabel('Predicted Life Expectancy (Years)')\n",
    "plt.title('True vs Predicted- RF Train')\n",
    "plt.savefig('RFTrain.png')\n"
   ]
  },
  {
   "cell_type": "code",
   "execution_count": 35,
   "metadata": {},
   "outputs": [
    {
     "name": "stdout",
     "output_type": "stream",
     "text": [
      "0.6299465442695223 \n",
      "\n",
      "0.6192052980132451 \n",
      "\n"
     ]
    },
    {
     "data": {
      "image/png": "[encoded data removed]",
      "text/plain": [
       "<Figure size 432x288 with 1 Axes>"
      ]
     },
     "metadata": {
      "needs_background": "light"
     },
     "output_type": "display_data"
    }
   ],
   "source": [
    "\n",
    "r2=clfB.score(xval,yval)\n",
    "print(r2,'\\n')\n",
    "\n",
    "ynewreal=scalerB.inverse_transform(yval)\n",
    "ynewpred=scalerB.inverse_transform(clfB.predict(xval))\n",
    "\n",
    "print(within_range_percent(ynewreal.ravel(),np.transpose(ynewpred)),'\\n')\n",
    "\n",
    "plt.plot(ynewreal,ynewpred,'o')\n",
    "plt.xlabel('True Life Expectancy (years)')\n",
    "plt.ylabel('Predicted Life Expectancy (Years)')\n",
    "plt.title('True vs Predicted- RF Val')\n",
    "plt.savefig('RFVal.png')\n"
   ]
  },
  {
   "cell_type": "code",
   "execution_count": 36,
   "metadata": {},
   "outputs": [
    {
     "name": "stdout",
     "output_type": "stream",
     "text": [
      "0.8547594084645852 \n",
      "\n",
      "0.8350558081852005 \n",
      "\n"
     ]
    }
   ],
   "source": [
    "clfB= RandomForestRegressor(n_estimators=200, max_depth=10, random_state=0)\n",
    "clfB.fit(xtrain,ytrain.ravel())\n",
    "r2=clfB.score(xtrain,ytrain)\n",
    "print(r2,'\\n')\n",
    "\n",
    "ynewreal=scalerB.inverse_transform(ytrain)\n",
    "ynewpred=scalerB.inverse_transform(clfB.predict(xtrain))\n",
    "\n",
    "print(within_range_percent(ynewreal.ravel(),np.transpose(ynewpred)),'\\n')"
   ]
  },
  {
   "cell_type": "code",
   "execution_count": 37,
   "metadata": {},
   "outputs": [
    {
     "name": "stdout",
     "output_type": "stream",
     "text": [
      "0.6258344652410941 \n",
      "\n",
      "0.6158940397350994 \n",
      "\n"
     ]
    }
   ],
   "source": [
    "r2=clfB.score(xval,yval.ravel())\n",
    "print(r2,'\\n')\n",
    "\n",
    "ynewreal=scalerB.inverse_transform(yval)\n",
    "ynewpred=scalerB.inverse_transform(clfB.predict(xval))\n",
    "\n",
    "print(within_range_percent(ynewreal.ravel(),np.transpose(ynewpred)),'\\n')"
   ]
  },
  {
   "cell_type": "code",
   "execution_count": 38,
   "metadata": {},
   "outputs": [
    {
     "name": "stdout",
     "output_type": "stream",
     "text": [
      "0.8549216709201829 \n",
      "\n",
      "0.8305084745762712 \n",
      "\n"
     ]
    }
   ],
   "source": [
    "clfB= RandomForestRegressor(n_estimators=300, max_depth=10, random_state=0)\n",
    "clfB.fit(xtrain,ytrain.ravel())\n",
    "r2=clfB.score(xtrain,ytrain.ravel())\n",
    "print(r2,'\\n')\n",
    "\n",
    "ynewreal=scalerB.inverse_transform(ytrain)\n",
    "ynewpred=scalerB.inverse_transform(clfB.predict(xtrain))\n",
    "\n",
    "print(within_range_percent(ynewreal.ravel(),np.transpose(ynewpred)),'\\n')\n",
    "\n"
   ]
  },
  {
   "cell_type": "code",
   "execution_count": 39,
   "metadata": {},
   "outputs": [
    {
     "name": "stdout",
     "output_type": "stream",
     "text": [
      "0.6229635128065028 \n",
      "\n",
      "0.6059602649006622 \n",
      "\n"
     ]
    }
   ],
   "source": [
    "r2=clfB.score(xval,yval)\n",
    "print(r2,'\\n')\n",
    "\n",
    "ynewreal=scalerB.inverse_transform(yval)\n",
    "ynewpred=scalerB.inverse_transform(clfB.predict(xval))\n",
    "\n",
    "print(within_range_percent(ynewreal.ravel(),np.transpose(ynewpred)),'\\n')"
   ]
  },
  {
   "cell_type": "code",
   "execution_count": null,
   "metadata": {},
   "outputs": [],
   "source": []
  }
 ],
 "metadata": {
  "kernelspec": {
   "display_name": "Python 3",
   "language": "python",
   "name": "python3"
  },
  "language_info": {
   "codemirror_mode": {
    "name": "ipython",
    "version": 3
   },
   "file_extension": ".py",
   "mimetype": "text/x-python",
   "name": "python",
   "nbconvert_exporter": "python",
   "pygments_lexer": "ipython3",
   "version": "3.8.5"
  }
 },
 "nbformat": 4,
 "nbformat_minor": 4
}
